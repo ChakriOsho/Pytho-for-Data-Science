{
  "nbformat": 4,
  "nbformat_minor": 0,
  "metadata": {
    "colab": {
      "name": "Conditionals and Booleans.ipynb",
      "provenance": []
    },
    "kernelspec": {
      "name": "python3",
      "display_name": "Python 3"
    }
  },
  "cells": [
    {
      "cell_type": "code",
      "metadata": {
        "id": "tx4FeFDXH89x",
        "colab_type": "code",
        "colab": {
          "base_uri": "https://localhost:8080/",
          "height": 34
        },
        "outputId": "8877abe5-c983-4b00-ecaa-dd520f62d99a"
      },
      "source": [
        "if True:\n",
        "  print('Condition was True')"
      ],
      "execution_count": 1,
      "outputs": [
        {
          "output_type": "stream",
          "text": [
            "Condition was True\n"
          ],
          "name": "stdout"
        }
      ]
    },
    {
      "cell_type": "code",
      "metadata": {
        "id": "jS2orZa0IIJO",
        "colab_type": "code",
        "colab": {}
      },
      "source": [
        "if False:\n",
        "  print('Condition was True')"
      ],
      "execution_count": 2,
      "outputs": []
    },
    {
      "cell_type": "code",
      "metadata": {
        "id": "BYzdrxWVINpC",
        "colab_type": "code",
        "colab": {
          "base_uri": "https://localhost:8080/",
          "height": 34
        },
        "outputId": "6cc47c86-e0b2-4216-ee1a-1675013e016a"
      },
      "source": [
        "language = 'Python'\n",
        "if language == 'Python':\n",
        "  print('Condition was True')"
      ],
      "execution_count": 3,
      "outputs": [
        {
          "output_type": "stream",
          "text": [
            "Condition was True\n"
          ],
          "name": "stdout"
        }
      ]
    },
    {
      "cell_type": "markdown",
      "metadata": {
        "id": "-dpduIVUIe6y",
        "colab_type": "text"
      },
      "source": [
        "Comparisons:\n",
        "Equal ----> == ,\n",
        "Not Equal ---> != ,\n",
        "Greater than ---> >,\n",
        "Less than ---> <,\n",
        "Greater or equal ---> >=,\n",
        "Lesser or equal ---> <=,\n",
        "Object identity ---> is"
      ]
    },
    {
      "cell_type": "code",
      "metadata": {
        "id": "hnjOaEQWIbM_",
        "colab_type": "code",
        "colab": {
          "base_uri": "https://localhost:8080/",
          "height": 34
        },
        "outputId": "4eb08ca9-8cb9-404b-fbcd-75def3443911"
      },
      "source": [
        "language = 'Python'\n",
        "if language == 'Python':\n",
        "  print('Language is python')\n",
        "else:\n",
        "  print('No match')"
      ],
      "execution_count": 5,
      "outputs": [
        {
          "output_type": "stream",
          "text": [
            "Language is python\n"
          ],
          "name": "stdout"
        }
      ]
    },
    {
      "cell_type": "code",
      "metadata": {
        "id": "boCCEyOmLI_S",
        "colab_type": "code",
        "colab": {
          "base_uri": "https://localhost:8080/",
          "height": 34
        },
        "outputId": "b27f6f01-0972-436c-d26f-9d702b5fff28"
      },
      "source": [
        "language = 'Java'\n",
        "if language == 'Python':\n",
        "  print('Language is python')\n",
        "else:\n",
        "  print('No match')"
      ],
      "execution_count": 6,
      "outputs": [
        {
          "output_type": "stream",
          "text": [
            "No match\n"
          ],
          "name": "stdout"
        }
      ]
    },
    {
      "cell_type": "code",
      "metadata": {
        "id": "JlAcATHjLVh7",
        "colab_type": "code",
        "colab": {
          "base_uri": "https://localhost:8080/",
          "height": 34
        },
        "outputId": "44126c60-d0de-46ad-a71e-a9db8465f273"
      },
      "source": [
        "# Elif\n",
        "language = 'Java'\n",
        "if language == 'Python':\n",
        "  print('Language is Python')\n",
        "elif language == 'Java':\n",
        "  print('Language is Java')\n",
        "else:\n",
        "  print('No Match')\n"
      ],
      "execution_count": 8,
      "outputs": [
        {
          "output_type": "stream",
          "text": [
            "Language is Java\n"
          ],
          "name": "stdout"
        }
      ]
    },
    {
      "cell_type": "markdown",
      "metadata": {
        "id": "xJrA4N-8bZuw",
        "colab_type": "text"
      },
      "source": [
        "**Booleans ---> and, or, not**"
      ]
    },
    {
      "cell_type": "code",
      "metadata": {
        "id": "AGpNzVfWaU2M",
        "colab_type": "code",
        "colab": {
          "base_uri": "https://localhost:8080/",
          "height": 34
        },
        "outputId": "f56d613c-412c-4c17-a520-39e61ef58cde"
      },
      "source": [
        "user = 'Admin'\n",
        "logged_in = True\n",
        "\n",
        "if user == 'Admin' and logged_in == True:\n",
        "  print('Admin page')\n",
        "else:\n",
        "  print('Bad credentials')"
      ],
      "execution_count": 10,
      "outputs": [
        {
          "output_type": "stream",
          "text": [
            "Admin page\n"
          ],
          "name": "stdout"
        }
      ]
    },
    {
      "cell_type": "code",
      "metadata": {
        "id": "KOqLuGGebz9Q",
        "colab_type": "code",
        "colab": {
          "base_uri": "https://localhost:8080/",
          "height": 34
        },
        "outputId": "09230c33-bc8f-4f7b-d1ce-574c27f2885c"
      },
      "source": [
        "if user == 'Admin' and logged_in == False:\n",
        "  print('Admin page')\n",
        "else:\n",
        "  print('Bad credentials')"
      ],
      "execution_count": 11,
      "outputs": [
        {
          "output_type": "stream",
          "text": [
            "Bad credentials\n"
          ],
          "name": "stdout"
        }
      ]
    },
    {
      "cell_type": "code",
      "metadata": {
        "id": "C3AO6FsacHiU",
        "colab_type": "code",
        "colab": {
          "base_uri": "https://localhost:8080/",
          "height": 34
        },
        "outputId": "11f26b8d-7f6b-486e-acf8-d7851f358254"
      },
      "source": [
        "if user == 'Admin' or logged_in == False:\n",
        "  print('Admin page')\n",
        "else:\n",
        "  print('Bad credentials')"
      ],
      "execution_count": 12,
      "outputs": [
        {
          "output_type": "stream",
          "text": [
            "Admin page\n"
          ],
          "name": "stdout"
        }
      ]
    },
    {
      "cell_type": "code",
      "metadata": {
        "id": "jIulqUXheMxC",
        "colab_type": "code",
        "colab": {
          "base_uri": "https://localhost:8080/",
          "height": 34
        },
        "outputId": "abbc59ba-c180-4f62-9915-f0adfde897a1"
      },
      "source": [
        "user = 'Admin'\n",
        "Logged_in = False\n",
        "\n",
        "if not logged_in:\n",
        "  print('Please login')\n",
        "else:\n",
        "  print('Welcome')"
      ],
      "execution_count": 14,
      "outputs": [
        {
          "output_type": "stream",
          "text": [
            "Welcome\n"
          ],
          "name": "stdout"
        }
      ]
    },
    {
      "cell_type": "code",
      "metadata": {
        "id": "YV3-kqdzehxz",
        "colab_type": "code",
        "colab": {
          "base_uri": "https://localhost:8080/",
          "height": 87
        },
        "outputId": "3e18f44c-e4a2-4c45-d53e-eb1375d36471"
      },
      "source": [
        "a = [1,2,3]\n",
        "b = [1,2,3]\n",
        "print(a == b)\n",
        "print(a is b)\n",
        "print(id(a))\n",
        "print(id(b))"
      ],
      "execution_count": 17,
      "outputs": [
        {
          "output_type": "stream",
          "text": [
            "True\n",
            "False\n",
            "140507012987848\n",
            "140507013422984\n"
          ],
          "name": "stdout"
        }
      ]
    },
    {
      "cell_type": "code",
      "metadata": {
        "id": "ljHxqdcKgyXi",
        "colab_type": "code",
        "colab": {
          "base_uri": "https://localhost:8080/",
          "height": 87
        },
        "outputId": "e623dea6-982c-41c7-cfba-c0cab21289b7"
      },
      "source": [
        "a = [1,2,3]\n",
        "b = a\n",
        "\n",
        "print(a is b)\n",
        "print(id(a))\n",
        "print(id(b))\n",
        "print(id(a) == id(b))"
      ],
      "execution_count": 19,
      "outputs": [
        {
          "output_type": "stream",
          "text": [
            "True\n",
            "140507013562568\n",
            "140507013562568\n",
            "True\n"
          ],
          "name": "stdout"
        }
      ]
    },
    {
      "cell_type": "markdown",
      "metadata": {
        "id": "O8GJ-O1bh9gH",
        "colab_type": "text"
      },
      "source": [
        "False Values:\n",
        "False   |\n",
        "None    |\n",
        "Zero of any numeric type    |\n",
        "Any empty sequence ex:'', (), []   |\n",
        "Any empty mapping ex: {}\n",
        "\n"
      ]
    },
    {
      "cell_type": "code",
      "metadata": {
        "id": "hqdydJhBhbjd",
        "colab_type": "code",
        "colab": {
          "base_uri": "https://localhost:8080/",
          "height": 34
        },
        "outputId": "71922113-c86e-49ba-8286-4664014e0572"
      },
      "source": [
        "condition = False\n",
        "if condition:\n",
        "  print('Evaluated is True')\n",
        "else:\n",
        "  print('Evaluated is False')"
      ],
      "execution_count": 22,
      "outputs": [
        {
          "output_type": "stream",
          "text": [
            "Evaluated is False\n"
          ],
          "name": "stdout"
        }
      ]
    },
    {
      "cell_type": "code",
      "metadata": {
        "id": "wcy7eL1Ph0Ia",
        "colab_type": "code",
        "colab": {
          "base_uri": "https://localhost:8080/",
          "height": 34
        },
        "outputId": "01fd6183-97fa-4753-80b3-852cd3fcd9bf"
      },
      "source": [
        "condition = None\n",
        "if condition:\n",
        "  print('Evaluated is True')\n",
        "else:\n",
        "  print('Evaluated is False')"
      ],
      "execution_count": 23,
      "outputs": [
        {
          "output_type": "stream",
          "text": [
            "Evaluated is False\n"
          ],
          "name": "stdout"
        }
      ]
    },
    {
      "cell_type": "code",
      "metadata": {
        "id": "bqSOZnbojIn1",
        "colab_type": "code",
        "colab": {
          "base_uri": "https://localhost:8080/",
          "height": 34
        },
        "outputId": "e0801a6c-16ab-4560-854e-db13b2f4ce85"
      },
      "source": [
        "condition = 0\n",
        "if condition:\n",
        "  print('Evaluated is True')\n",
        "else:\n",
        "  print('Evaluated is False')"
      ],
      "execution_count": 24,
      "outputs": [
        {
          "output_type": "stream",
          "text": [
            "Evaluated is False\n"
          ],
          "name": "stdout"
        }
      ]
    },
    {
      "cell_type": "code",
      "metadata": {
        "id": "DE1tAaGHjLif",
        "colab_type": "code",
        "colab": {
          "base_uri": "https://localhost:8080/",
          "height": 34
        },
        "outputId": "eb70e211-793b-4add-f3df-b928f4c62484"
      },
      "source": [
        "condition = 10\n",
        "if condition:\n",
        "  print('Evaluated is True')\n",
        "else:\n",
        "  print('Evaluated is False')"
      ],
      "execution_count": 25,
      "outputs": [
        {
          "output_type": "stream",
          "text": [
            "Evaluated is True\n"
          ],
          "name": "stdout"
        }
      ]
    },
    {
      "cell_type": "code",
      "metadata": {
        "id": "_nTwx4DWjNJX",
        "colab_type": "code",
        "colab": {
          "base_uri": "https://localhost:8080/",
          "height": 34
        },
        "outputId": "90895910-0838-4805-eea8-3ee2b165e0f0"
      },
      "source": [
        "condition = ''\n",
        "if condition:\n",
        "  print('Evaluated is True')\n",
        "else:\n",
        "  print('Evaluated is False')"
      ],
      "execution_count": 26,
      "outputs": [
        {
          "output_type": "stream",
          "text": [
            "Evaluated is False\n"
          ],
          "name": "stdout"
        }
      ]
    },
    {
      "cell_type": "code",
      "metadata": {
        "id": "XowZv0tpjTEO",
        "colab_type": "code",
        "colab": {
          "base_uri": "https://localhost:8080/",
          "height": 34
        },
        "outputId": "0af3cc5f-2ed3-4297-a8a6-252842a7bb32"
      },
      "source": [
        "condition = []\n",
        "if condition:\n",
        "  print('Evaluated is True')\n",
        "else:\n",
        "  print('Evaluated is False')"
      ],
      "execution_count": 27,
      "outputs": [
        {
          "output_type": "stream",
          "text": [
            "Evaluated is False\n"
          ],
          "name": "stdout"
        }
      ]
    },
    {
      "cell_type": "code",
      "metadata": {
        "id": "hKlPs6_gjVHA",
        "colab_type": "code",
        "colab": {
          "base_uri": "https://localhost:8080/",
          "height": 34
        },
        "outputId": "93301ac0-a35a-4fc0-cd52-48f43e49d490"
      },
      "source": [
        "condition = ()\n",
        "if condition:\n",
        "  print('Evaluated is True')\n",
        "else:\n",
        "  print('Evaluated is False')"
      ],
      "execution_count": 29,
      "outputs": [
        {
          "output_type": "stream",
          "text": [
            "Evaluated is False\n"
          ],
          "name": "stdout"
        }
      ]
    },
    {
      "cell_type": "code",
      "metadata": {
        "id": "4eJkhBWBjXfe",
        "colab_type": "code",
        "colab": {
          "base_uri": "https://localhost:8080/",
          "height": 34
        },
        "outputId": "6576e1cb-9d92-4ae0-a915-bcfb60da1a57"
      },
      "source": [
        "condition = {}\n",
        "if condition:\n",
        "  print('Evaluated is True')\n",
        "else:\n",
        "  print('Evaluated is False')"
      ],
      "execution_count": 30,
      "outputs": [
        {
          "output_type": "stream",
          "text": [
            "Evaluated is False\n"
          ],
          "name": "stdout"
        }
      ]
    },
    {
      "cell_type": "code",
      "metadata": {
        "id": "4GFXb7hSjaos",
        "colab_type": "code",
        "colab": {
          "base_uri": "https://localhost:8080/",
          "height": 34
        },
        "outputId": "26520da0-3c41-4950-ab8e-5d66cd320193"
      },
      "source": [
        "condition = 'Test'\n",
        "if condition:\n",
        "  print('Evaluated is True')\n",
        "else:\n",
        "  print('Evaluated is False')"
      ],
      "execution_count": 31,
      "outputs": [
        {
          "output_type": "stream",
          "text": [
            "Evaluated is True\n"
          ],
          "name": "stdout"
        }
      ]
    },
    {
      "cell_type": "code",
      "metadata": {
        "id": "RGWKvpIgjnIu",
        "colab_type": "code",
        "colab": {}
      },
      "source": [
        ""
      ],
      "execution_count": null,
      "outputs": []
    }
  ]
}