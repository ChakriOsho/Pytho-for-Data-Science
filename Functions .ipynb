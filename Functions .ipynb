{
  "nbformat": 4,
  "nbformat_minor": 0,
  "metadata": {
    "colab": {
      "name": "Functions.ipynb",
      "provenance": [],
      "collapsed_sections": []
    },
    "kernelspec": {
      "name": "python3",
      "display_name": "Python 3"
    }
  },
  "cells": [
    {
      "cell_type": "markdown",
      "metadata": {
        "id": "-kXgHE1qU9Jy",
        "colab_type": "text"
      },
      "source": [
        "**Functions**"
      ]
    },
    {
      "cell_type": "code",
      "metadata": {
        "id": "uXP2kD2DUxrE",
        "colab_type": "code",
        "colab": {}
      },
      "source": [
        "def hello_func():\n",
        "  pass"
      ],
      "execution_count": 34,
      "outputs": []
    },
    {
      "cell_type": "code",
      "metadata": {
        "id": "my-PQkv4VEen",
        "colab_type": "code",
        "colab": {
          "base_uri": "https://localhost:8080/",
          "height": 52
        },
        "outputId": "d9b9013c-c2b8-4b43-f5eb-48c900d8d255"
      },
      "source": [
        "print(hello_func())\n",
        "print(hello_func)"
      ],
      "execution_count": 35,
      "outputs": [
        {
          "output_type": "stream",
          "text": [
            "None\n",
            "<function hello_func at 0x7f5c38bdd730>\n"
          ],
          "name": "stdout"
        }
      ]
    },
    {
      "cell_type": "code",
      "metadata": {
        "id": "vrxEYY3WVeyE",
        "colab_type": "code",
        "colab": {
          "base_uri": "https://localhost:8080/",
          "height": 105
        },
        "outputId": "2271d0ec-0d05-4a37-e1d1-f4d30983432d"
      },
      "source": [
        "def hello_func():\n",
        "  print('Hello')\n",
        "hello_func()\n",
        "print('Hello')\n",
        "print('Hello!')\n",
        "print('Hello!')\n",
        "print('Hello!')"
      ],
      "execution_count": 36,
      "outputs": [
        {
          "output_type": "stream",
          "text": [
            "Hello\n",
            "Hello\n",
            "Hello!\n",
            "Hello!\n",
            "Hello!\n"
          ],
          "name": "stdout"
        }
      ]
    },
    {
      "cell_type": "code",
      "metadata": {
        "id": "xi9uoWhpVzGo",
        "colab_type": "code",
        "colab": {
          "base_uri": "https://localhost:8080/",
          "height": 52
        },
        "outputId": "7b31c6dd-134c-4358-877a-a5793a526d06"
      },
      "source": [
        "def hello_func():\n",
        "  return 'Hello'\n",
        "print(hello_func())\n",
        "print(hello_func().lower())"
      ],
      "execution_count": 37,
      "outputs": [
        {
          "output_type": "stream",
          "text": [
            "Hello\n",
            "hello\n"
          ],
          "name": "stdout"
        }
      ]
    },
    {
      "cell_type": "code",
      "metadata": {
        "id": "gOS5Y68hBM-5",
        "colab_type": "code",
        "colab": {
          "base_uri": "https://localhost:8080/",
          "height": 34
        },
        "outputId": "558d68cd-de93-4d6a-c0b6-6cae62ebd23c"
      },
      "source": [
        "def hello_fun(greeting):\n",
        "  return '{}.Function'.format(greeting)\n",
        "print(hello_fun('Hi'))"
      ],
      "execution_count": 38,
      "outputs": [
        {
          "output_type": "stream",
          "text": [
            "Hi.Function\n"
          ],
          "name": "stdout"
        }
      ]
    },
    {
      "cell_type": "code",
      "metadata": {
        "id": "cidml2bk6pvN",
        "colab_type": "code",
        "colab": {
          "base_uri": "https://localhost:8080/",
          "height": 35
        },
        "outputId": "7c7a7c57-aba7-4e69-c054-3e0469e96573"
      },
      "source": [
        "def hello_fun(greeting, name = 'Anirudh'):\n",
        "  return'{},{}'.format(greeting, name)\n",
        "\n",
        "hello_fun('Hi')"
      ],
      "execution_count": 39,
      "outputs": [
        {
          "output_type": "execute_result",
          "data": {
            "application/vnd.google.colaboratory.intrinsic+json": {
              "type": "string"
            },
            "text/plain": [
              "'Hi,Anirudh'"
            ]
          },
          "metadata": {
            "tags": []
          },
          "execution_count": 39
        }
      ]
    },
    {
      "cell_type": "code",
      "metadata": {
        "id": "YSYjqIGXFoM0",
        "colab_type": "code",
        "colab": {
          "base_uri": "https://localhost:8080/",
          "height": 35
        },
        "outputId": "d46d5e59-d0be-4cb6-eae6-b22186997f09"
      },
      "source": [
        "def hello_fun(greeting, name = 'you'):\n",
        "  return'{},{}'.format(greeting, name)\n",
        "\n",
        "hello_fun('Hi', name = 'Chakri')"
      ],
      "execution_count": 40,
      "outputs": [
        {
          "output_type": "execute_result",
          "data": {
            "application/vnd.google.colaboratory.intrinsic+json": {
              "type": "string"
            },
            "text/plain": [
              "'Hi,Chakri'"
            ]
          },
          "metadata": {
            "tags": []
          },
          "execution_count": 40
        }
      ]
    },
    {
      "cell_type": "code",
      "metadata": {
        "id": "c32kOXgEF-GY",
        "colab_type": "code",
        "colab": {
          "base_uri": "https://localhost:8080/",
          "height": 52
        },
        "outputId": "40c5e62a-08a9-40ce-960f-ff730599dfbe"
      },
      "source": [
        "def student_info(*args, **kwargs):   # args---> gives output in tuple, kwargs---> gives output in dictionary\n",
        "  print(args)\n",
        "  print(kwargs)\n",
        "\n",
        "student_info('Math', 'Art', name = 'Ani', age = 30)\n"
      ],
      "execution_count": 41,
      "outputs": [
        {
          "output_type": "stream",
          "text": [
            "('Math', 'Art')\n",
            "{'name': 'Ani', 'age': 30}\n"
          ],
          "name": "stdout"
        }
      ]
    },
    {
      "cell_type": "code",
      "metadata": {
        "id": "R4hV6CJ4GMf_",
        "colab_type": "code",
        "colab": {
          "base_uri": "https://localhost:8080/",
          "height": 70
        },
        "outputId": "7486d0fd-9b2e-44e7-c202-cf1fd0d9f710"
      },
      "source": [
        "courses = ['Math', 'Art']\n",
        "info = {'name':'Ani', 'age':30}\n",
        "\n",
        "print(student_info(courses, info))"
      ],
      "execution_count": 42,
      "outputs": [
        {
          "output_type": "stream",
          "text": [
            "(['Math', 'Art'], {'name': 'Ani', 'age': 30})\n",
            "{}\n",
            "None\n"
          ],
          "name": "stdout"
        }
      ]
    },
    {
      "cell_type": "code",
      "metadata": {
        "id": "1B5GpsvrI9rk",
        "colab_type": "code",
        "colab": {
          "base_uri": "https://localhost:8080/",
          "height": 52
        },
        "outputId": "d9a250ed-d523-4a1f-aa34-1bfb6befe546"
      },
      "source": [
        "courses = ['Math', 'Art']\n",
        "info = {'name':'Ani', 'age':30}\n",
        "\n",
        "student_info(*courses, **info)"
      ],
      "execution_count": 43,
      "outputs": [
        {
          "output_type": "stream",
          "text": [
            "('Math', 'Art')\n",
            "{'name': 'Ani', 'age': 30}\n"
          ],
          "name": "stdout"
        }
      ]
    },
    {
      "cell_type": "code",
      "metadata": {
        "id": "-lA7YMJ8N1hr",
        "colab_type": "code",
        "colab": {
          "base_uri": "https://localhost:8080/",
          "height": 52
        },
        "outputId": "286fde5f-18c6-46f1-ab71-8e99fd01e4cd"
      },
      "source": [
        "# Find Leap Year\n",
        "month_days = [0,31,28,31,30,31,30,31,31,30,31,30,31]\n",
        "\n",
        "def is_leap(year):\n",
        "  \"\"\"Return True for Leap year and False for Non-Leapy ear\"\"\"\n",
        "   \n",
        "\n",
        "  return year % 4 == 0 and (year % 100 != 0  or year % 400 == 0 )\n",
        "\n",
        "def days_in_month(year, month):\n",
        "  \"\"\"Return no of days in that month in that year\"\"\"\n",
        "\n",
        "  if not 1<= month <= 12:\n",
        "    return 'Invalid month'\n",
        "\n",
        "  if month == 2 and is_leap(year):\n",
        "    return 29\n",
        "\n",
        "  return month_days[month]\n",
        "\n",
        "print(is_leap(2020))\n",
        "print(days_in_month(2017,2))\n"
      ],
      "execution_count": 44,
      "outputs": [
        {
          "output_type": "stream",
          "text": [
            "True\n",
            "28\n"
          ],
          "name": "stdout"
        }
      ]
    },
    {
      "cell_type": "code",
      "metadata": {
        "id": "R36tg5iSX7w7",
        "colab_type": "code",
        "colab": {
          "base_uri": "https://localhost:8080/",
          "height": 52
        },
        "outputId": "4cdf3494-91e6-4013-f76a-02846ae18143"
      },
      "source": [
        "# Square of numbers\n",
        "def square(num):\n",
        "  return num*num\n",
        "print(square(4))\n",
        "print(square(5))"
      ],
      "execution_count": 45,
      "outputs": [
        {
          "output_type": "stream",
          "text": [
            "16\n",
            "25\n"
          ],
          "name": "stdout"
        }
      ]
    },
    {
      "cell_type": "code",
      "metadata": {
        "id": "aWzm7W7id5Kz",
        "colab_type": "code",
        "colab": {
          "base_uri": "https://localhost:8080/",
          "height": 52
        },
        "outputId": "01c9643c-30df-47f5-f2b2-673e610ea7b2"
      },
      "source": [
        "# Number is Even or Odd\n",
        "def even_odd(num):\n",
        "  if num % 2 == 0:\n",
        "    print(num,\"is EvenNumber\")\n",
        "  else:\n",
        "    print(num,'is OddNumber')\n",
        "even_odd(40)\n",
        "even_odd(23)"
      ],
      "execution_count": 49,
      "outputs": [
        {
          "output_type": "stream",
          "text": [
            "40 is EvenNumber\n",
            "23 is OddNumber\n"
          ],
          "name": "stdout"
        }
      ]
    },
    {
      "cell_type": "code",
      "metadata": {
        "id": "gXWu4Mvbh063",
        "colab_type": "code",
        "colab": {
          "base_uri": "https://localhost:8080/",
          "height": 87
        },
        "outputId": "8ef9dc21-5925-477e-a935-95ac763408ad"
      },
      "source": [
        "# factorial of Given numbers\n",
        "def fact(num):\n",
        "  result = 1\n",
        "  while num>=1:\n",
        "    result=result*num\n",
        "    num=num-1\n",
        "  return result\n",
        "for i in range(1,5):\n",
        "  print('the Factorial of',i,'is',fact(i))\n"
      ],
      "execution_count": 50,
      "outputs": [
        {
          "output_type": "stream",
          "text": [
            "the Factorial of 1 is 1\n",
            "the Factorial of 2 is 2\n",
            "the Factorial of 3 is 6\n",
            "the Factorial of 4 is 24\n"
          ],
          "name": "stdout"
        }
      ]
    },
    {
      "cell_type": "code",
      "metadata": {
        "id": "v5EBTg1cjuPh",
        "colab_type": "code",
        "colab": {
          "base_uri": "https://localhost:8080/",
          "height": 52
        },
        "outputId": "3fecd3fb-53fb-4099-a7c4-5bdfc9ca1dce"
      },
      "source": [
        "# Return multiple values from a function\n",
        "def sum_sub(a,b):\n",
        "  sum = a+b\n",
        "  sub = a-b\n",
        "  return sum,sub\n",
        "x,y = sum_sub(10,20)\n",
        "print('The sum is',x)\n",
        "print('The sub is',y)"
      ],
      "execution_count": 57,
      "outputs": [
        {
          "output_type": "stream",
          "text": [
            "The sum is 30\n",
            "The sub is -10\n"
          ],
          "name": "stdout"
        }
      ]
    },
    {
      "cell_type": "code",
      "metadata": {
        "id": "8SzL8qw8nbhC",
        "colab_type": "code",
        "colab": {
          "base_uri": "https://localhost:8080/",
          "height": 105
        },
        "outputId": "d34abcb8-b99e-4663-b0ee-b3c274fad711"
      },
      "source": [
        "def cal(a,b):\n",
        "  sum = a+b\n",
        "  sub = a-b\n",
        "  mul = a*b\n",
        "  div = a/b\n",
        "  return sum,sub,mul,div\n",
        "t = cal(30,10)\n",
        "print('The results are')\n",
        "for i in t:\n",
        "  print(i)"
      ],
      "execution_count": 60,
      "outputs": [
        {
          "output_type": "stream",
          "text": [
            "The results are\n",
            "40\n",
            "20\n",
            "300\n",
            "3.0\n"
          ],
          "name": "stdout"
        }
      ]
    },
    {
      "cell_type": "code",
      "metadata": {
        "id": "bZwiMX9moEjn",
        "colab_type": "code",
        "colab": {
          "base_uri": "https://localhost:8080/",
          "height": 52
        },
        "outputId": "5c824af3-8f60-4dc1-d80e-0a326779e93a"
      },
      "source": [
        "# Positional arguments ---> Arguments passed to function in correct proportional order\n",
        "\n",
        "def sub(x,y):\n",
        "  print(x-y)\n",
        "\n",
        "sub(100,200)\n",
        "sub(600,300)"
      ],
      "execution_count": 62,
      "outputs": [
        {
          "output_type": "stream",
          "text": [
            "-100\n",
            "300\n"
          ],
          "name": "stdout"
        }
      ]
    },
    {
      "cell_type": "code",
      "metadata": {
        "id": "z8h7YsCuorbr",
        "colab_type": "code",
        "colab": {
          "base_uri": "https://localhost:8080/",
          "height": 52
        },
        "outputId": "86dfa740-308c-4725-8191-77c2858a257a"
      },
      "source": [
        "# Keyword arguments ---> We can pass argument value by key word\n",
        "def wish(name,msg):\n",
        "  print('Hello!',name,msg)\n",
        "\n",
        "wish(name='Anrudh',msg='Good Evening')\n",
        "wish(msg='Good Evening', name='Anirudh')"
      ],
      "execution_count": 64,
      "outputs": [
        {
          "output_type": "stream",
          "text": [
            "Hello! Anrudh Good Evening\n",
            "Hello! Anirudh Good Evening\n"
          ],
          "name": "stdout"
        }
      ]
    },
    {
      "cell_type": "code",
      "metadata": {
        "id": "zGrzdaFgpKpa",
        "colab_type": "code",
        "colab": {
          "base_uri": "https://localhost:8080/",
          "height": 52
        },
        "outputId": "4998fcaa-611f-4238-de9e-944f4ed8b7e4"
      },
      "source": [
        "# Positional and Keyword argument ----> Here in this case we need to take positional argument followed by keyword \n",
        "def wish(name,msg):\n",
        "  print('Hello!',name,msg)\n",
        "\n",
        "wish(name='Anirudh', msg='Good mng') # valid\n",
        "wish('Anirudh',msg='Good mng') # valid\n",
        "#wish(name='Anirudh, 'Good mng') # invalid\n"
      ],
      "execution_count": 67,
      "outputs": [
        {
          "output_type": "stream",
          "text": [
            "Hello! Anirudh Good mng\n",
            "Hello! Anirudh Good mng\n"
          ],
          "name": "stdout"
        }
      ]
    },
    {
      "cell_type": "code",
      "metadata": {
        "id": "PC4_moOLpvx5",
        "colab_type": "code",
        "colab": {
          "base_uri": "https://localhost:8080/",
          "height": 52
        },
        "outputId": "b139ad01-eb3d-4b19-830a-c6a59ffb8853"
      },
      "source": [
        "# Default Arguments\n",
        "def wish(name='Guest'):\n",
        "  print('Hello',name,'Good mng')\n",
        "\n",
        "wish('Vandu')\n",
        "wish() "
      ],
      "execution_count": 68,
      "outputs": [
        {
          "output_type": "stream",
          "text": [
            "Hello Vandu Good mng\n",
            "Hello Guest Good mng\n"
          ],
          "name": "stdout"
        }
      ]
    },
    {
      "cell_type": "code",
      "metadata": {
        "id": "qly9JO6zqXmK",
        "colab_type": "code",
        "colab": {
          "base_uri": "https://localhost:8080/",
          "height": 87
        },
        "outputId": "08deaad8-4ad5-4ee6-f36c-fb41367ec198"
      },
      "source": [
        "# Variable length argument\n",
        "def sum(*n):\n",
        "  total = 0\n",
        "  for n1 in n:\n",
        "    total = total+n1\n",
        "  print('The sum', total)\n",
        "\n",
        "sum()\n",
        "sum(10,20)\n",
        "sum(100,200,30)\n",
        "sum(140,134,155,166)"
      ],
      "execution_count": 70,
      "outputs": [
        {
          "output_type": "stream",
          "text": [
            "The sum 0\n",
            "The sum 30\n",
            "The sum 330\n",
            "The sum 595\n"
          ],
          "name": "stdout"
        }
      ]
    },
    {
      "cell_type": "code",
      "metadata": {
        "id": "8B6aoz50rcd4",
        "colab_type": "code",
        "colab": {
          "base_uri": "https://localhost:8080/",
          "height": 52
        },
        "outputId": "37afc491-d5c7-40f8-c019-7123d1cf1c25"
      },
      "source": [
        "# Global Variable\n",
        "a=10\n",
        "def f1():\n",
        "  print(a)\n",
        "\n",
        "def f2():\n",
        "  print(a)\n",
        "\n",
        "f1()\n",
        "f2()"
      ],
      "execution_count": 81,
      "outputs": [
        {
          "output_type": "stream",
          "text": [
            "10\n",
            "10\n"
          ],
          "name": "stdout"
        }
      ]
    },
    {
      "cell_type": "code",
      "metadata": {
        "id": "O-eYtyjrtH5I",
        "colab_type": "code",
        "colab": {
          "base_uri": "https://localhost:8080/",
          "height": 34
        },
        "outputId": "42a03709-9b7a-4558-cab5-a9b3913f5fb3"
      },
      "source": [
        "# Local variable\n",
        "def f1():\n",
        "  a=20\n",
        "  print(a)\n",
        "\n",
        "f1()\n"
      ],
      "execution_count": 83,
      "outputs": [
        {
          "output_type": "stream",
          "text": [
            "20\n"
          ],
          "name": "stdout"
        }
      ]
    },
    {
      "cell_type": "code",
      "metadata": {
        "id": "FUGHEAiztSep",
        "colab_type": "code",
        "colab": {
          "base_uri": "https://localhost:8080/",
          "height": 52
        },
        "outputId": "d14afaf5-bab9-4ba3-8ad6-2034c908e100"
      },
      "source": [
        "# Global keyword\n",
        "a = 20\n",
        "def f1():\n",
        "  a = 200 # global keyword\n",
        "  print(a)\n",
        "\n",
        "def f2():\n",
        "  print(a)\n",
        "\n",
        "f1()\n",
        "f2()\n"
      ],
      "execution_count": 86,
      "outputs": [
        {
          "output_type": "stream",
          "text": [
            "200\n",
            "20\n"
          ],
          "name": "stdout"
        }
      ]
    },
    {
      "cell_type": "code",
      "metadata": {
        "id": "5w7M7Vnztr0L",
        "colab_type": "code",
        "colab": {
          "base_uri": "https://localhost:8080/",
          "height": 52
        },
        "outputId": "00ce0199-4fcc-4f57-f48f-db1af3300f9c"
      },
      "source": [
        "def f1():\n",
        "  global a\n",
        "  a = 10\n",
        "  print(a)\n",
        "\n",
        "def f2():\n",
        "  print(a)\n",
        "\n",
        "f1()\n",
        "f2()"
      ],
      "execution_count": 88,
      "outputs": [
        {
          "output_type": "stream",
          "text": [
            "10\n",
            "10\n"
          ],
          "name": "stdout"
        }
      ]
    },
    {
      "cell_type": "code",
      "metadata": {
        "id": "ZvfVXasbuF_Y",
        "colab_type": "code",
        "colab": {
          "base_uri": "https://localhost:8080/",
          "height": 52
        },
        "outputId": "3bc10303-94db-4ad4-f194-dfd7cfc448c6"
      },
      "source": [
        "# Factorial of given Number with Recursion\n",
        "def factorial(n):\n",
        "  if n==0:\n",
        "    result=1\n",
        "  else:\n",
        "    result=n*factorial(n-1)\n",
        "  return result\n",
        "print('The factorial of 4 is:', factorial(4))\n",
        "print('The factorial of 4 is:', factorial(5))"
      ],
      "execution_count": 91,
      "outputs": [
        {
          "output_type": "stream",
          "text": [
            "The factorial of 4 is: 24\n",
            "The factorial of 4 is: 120\n"
          ],
          "name": "stdout"
        }
      ]
    },
    {
      "cell_type": "code",
      "metadata": {
        "id": "Hmtn17hnvIiY",
        "colab_type": "code",
        "colab": {
          "base_uri": "https://localhost:8080/",
          "height": 70
        },
        "outputId": "db29d944-82f8-474f-b4c7-daf7f2c645cd"
      },
      "source": [
        "# Lambda Function\n",
        "s = lambda n:n*n\n",
        "print('the square of 4 is:', s(4))\n",
        "print('the square of 4 is:', s(5))\n",
        "print('the square of 4 is:', s(6))"
      ],
      "execution_count": 93,
      "outputs": [
        {
          "output_type": "stream",
          "text": [
            "the square of 4 is: 16\n",
            "the square of 4 is: 25\n",
            "the square of 4 is: 36\n"
          ],
          "name": "stdout"
        }
      ]
    },
    {
      "cell_type": "code",
      "metadata": {
        "id": "QFP8B2m3vif_",
        "colab_type": "code",
        "colab": {
          "base_uri": "https://localhost:8080/",
          "height": 34
        },
        "outputId": "8ca9e682-0bf8-4bae-e202-fda96423755d"
      },
      "source": [
        "# sum of two numbers\n",
        "s = lambda a,b:a+b\n",
        "print('The sum of two numbers is:', s(4,5))"
      ],
      "execution_count": 96,
      "outputs": [
        {
          "output_type": "stream",
          "text": [
            "The sum of two numbers is: 9\n"
          ],
          "name": "stdout"
        }
      ]
    },
    {
      "cell_type": "code",
      "metadata": {
        "id": "9hnrM2qwvx0l",
        "colab_type": "code",
        "colab": {
          "base_uri": "https://localhost:8080/",
          "height": 34
        },
        "outputId": "6e17dd93-ea40-4de8-dca1-ede739f9c682"
      },
      "source": [
        "# Biggest of given values\n",
        "s = lambda a,b:a if a>b else b\n",
        "print('The biggest of 100,200 is:',s(100,200))"
      ],
      "execution_count": 97,
      "outputs": [
        {
          "output_type": "stream",
          "text": [
            "The biggest of 100,200 is: 200\n"
          ],
          "name": "stdout"
        }
      ]
    },
    {
      "cell_type": "code",
      "metadata": {
        "id": "WadGpfUNwJ6_",
        "colab_type": "code",
        "colab": {
          "base_uri": "https://localhost:8080/",
          "height": 122
        },
        "outputId": "0035e237-73f4-424a-e85a-54c19acdae8a"
      },
      "source": [
        "# Filter () Function\n",
        "\n",
        "##Even numbers from list using filter function\n",
        "\n",
        "def is_even(x):\n",
        "  if x % 2 == 0:\n",
        "    print('Even')\n",
        "  else:\n",
        "    print('Odd')\n",
        "l = [10,20,30,40,50]\n",
        "l1=list(filter(is_even,l))\n",
        "print(l1)"
      ],
      "execution_count": 98,
      "outputs": [
        {
          "output_type": "stream",
          "text": [
            "Even\n",
            "Even\n",
            "Even\n",
            "Even\n",
            "Even\n",
            "[]\n"
          ],
          "name": "stdout"
        }
      ]
    },
    {
      "cell_type": "code",
      "metadata": {
        "id": "-VPyrheYw_LT",
        "colab_type": "code",
        "colab": {
          "base_uri": "https://localhost:8080/",
          "height": 52
        },
        "outputId": "45e05e82-28d1-42e3-b038-84ce4882493a"
      },
      "source": [
        "# With Lambda Function\n",
        "l=[1,2,3,4,5,6,7,8,9]\n",
        "l1 = list(filter(lambda x: x % 2 == 0,l))\n",
        "print('The l1 result is:',l1)\n",
        "\n",
        "l2= list(filter(lambda x:x % 2 != 0, l))\n",
        "print('The l2 result is:',l2)\n"
      ],
      "execution_count": 102,
      "outputs": [
        {
          "output_type": "stream",
          "text": [
            "The l1 result is: [2, 4, 6, 8]\n",
            "The l2 result is: [1, 3, 5, 7, 9]\n"
          ],
          "name": "stdout"
        }
      ]
    },
    {
      "cell_type": "code",
      "metadata": {
        "id": "aLDmwdWqxY_G",
        "colab_type": "code",
        "colab": {
          "base_uri": "https://localhost:8080/",
          "height": 34
        },
        "outputId": "fd46269e-31f1-40df-a8bb-102a47b79c85"
      },
      "source": [
        "# map() Function\n",
        "l=[2,3,4,5]\n",
        "def double(x):\n",
        "  return 2*x\n",
        "l1=list(map(double,l))\n",
        "l1\n"
      ],
      "execution_count": 103,
      "outputs": [
        {
          "output_type": "execute_result",
          "data": {
            "text/plain": [
              "[4, 6, 8, 10]"
            ]
          },
          "metadata": {
            "tags": []
          },
          "execution_count": 103
        }
      ]
    },
    {
      "cell_type": "code",
      "metadata": {
        "id": "Hb77uj9byk2o",
        "colab_type": "code",
        "colab": {
          "base_uri": "https://localhost:8080/",
          "height": 34
        },
        "outputId": "98c4e0d2-3f8e-45b1-deca-af052a2ea755"
      },
      "source": [
        "# using Lambda\n",
        "l= [2,3,4,5]\n",
        "l1=list(map(lambda x:2*x,l))\n",
        "l1\n"
      ],
      "execution_count": 105,
      "outputs": [
        {
          "output_type": "execute_result",
          "data": {
            "text/plain": [
              "[4, 6, 8, 10]"
            ]
          },
          "metadata": {
            "tags": []
          },
          "execution_count": 105
        }
      ]
    },
    {
      "cell_type": "code",
      "metadata": {
        "id": "2KdMtnR20VZz",
        "colab_type": "code",
        "colab": {
          "base_uri": "https://localhost:8080/",
          "height": 34
        },
        "outputId": "64a52c09-5f0d-44f6-ebaa-622c5db2b129"
      },
      "source": [
        "# reduce()function\n",
        "from functools import reduce\n",
        "l=[10,20,30,40,50]\n",
        "result = reduce(lambda x,y:x+y,l)\n",
        "result\n"
      ],
      "execution_count": 107,
      "outputs": [
        {
          "output_type": "execute_result",
          "data": {
            "text/plain": [
              "150"
            ]
          },
          "metadata": {
            "tags": []
          },
          "execution_count": 107
        }
      ]
    },
    {
      "cell_type": "code",
      "metadata": {
        "id": "17CP3TPn088r",
        "colab_type": "code",
        "colab": {}
      },
      "source": [
        ""
      ],
      "execution_count": null,
      "outputs": []
    }
  ]
}