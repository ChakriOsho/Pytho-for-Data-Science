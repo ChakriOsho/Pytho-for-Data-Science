{
  "nbformat": 4,
  "nbformat_minor": 0,
  "metadata": {
    "colab": {
      "name": "Lists,Tuples and Sets.ipynb",
      "provenance": []
    },
    "kernelspec": {
      "name": "python3",
      "display_name": "Python 3"
    }
  },
  "cells": [
    {
      "cell_type": "markdown",
      "metadata": {
        "id": "yO3qWfo_YpC0",
        "colab_type": "text"
      },
      "source": [
        "**Lists ---> Muttable**"
      ]
    },
    {
      "cell_type": "code",
      "metadata": {
        "id": "zF8TNOIATnNO",
        "colab_type": "code",
        "colab": {
          "base_uri": "https://localhost:8080/",
          "height": 34
        },
        "outputId": "72de51ee-51c1-415d-d1c6-00641384cfcb"
      },
      "source": [
        "courses = ['History','Math','Science','Social']\n",
        "courses"
      ],
      "execution_count": 70,
      "outputs": [
        {
          "output_type": "execute_result",
          "data": {
            "text/plain": [
              "['History', 'Math', 'Science', 'Social']"
            ]
          },
          "metadata": {
            "tags": []
          },
          "execution_count": 70
        }
      ]
    },
    {
      "cell_type": "code",
      "metadata": {
        "id": "7lIcE6hOT-EG",
        "colab_type": "code",
        "colab": {
          "base_uri": "https://localhost:8080/",
          "height": 187
        },
        "outputId": "0175ab6e-e18b-4e61-d5b0-413240b69c9d"
      },
      "source": [
        "print(len(courses))\n",
        "print(courses[0])\n",
        "print(courses[2])\n",
        "print(courses[:2])\n",
        "print(courses[0:3])\n",
        "print(courses[-1])\n",
        "print(courses[-1:-2])\n",
        "print(courses[-2:-1])\n",
        "print(courses[:-1])\n",
        "print(courses[1:])"
      ],
      "execution_count": 71,
      "outputs": [
        {
          "output_type": "stream",
          "text": [
            "4\n",
            "History\n",
            "Science\n",
            "['History', 'Math']\n",
            "['History', 'Math', 'Science']\n",
            "Social\n",
            "[]\n",
            "['Science']\n",
            "['History', 'Math', 'Science']\n",
            "['Math', 'Science', 'Social']\n"
          ],
          "name": "stdout"
        }
      ]
    },
    {
      "cell_type": "code",
      "metadata": {
        "id": "z8G04FMOVvKO",
        "colab_type": "code",
        "colab": {}
      },
      "source": [
        "courses.append('Art')"
      ],
      "execution_count": 72,
      "outputs": []
    },
    {
      "cell_type": "code",
      "metadata": {
        "id": "F4xRUpR4VwKr",
        "colab_type": "code",
        "colab": {
          "base_uri": "https://localhost:8080/",
          "height": 34
        },
        "outputId": "1eb890da-511f-427f-a552-243321a81234"
      },
      "source": [
        "print(courses)"
      ],
      "execution_count": 73,
      "outputs": [
        {
          "output_type": "stream",
          "text": [
            "['History', 'Math', 'Science', 'Social', 'Art']\n"
          ],
          "name": "stdout"
        }
      ]
    },
    {
      "cell_type": "code",
      "metadata": {
        "id": "TUWsrZ21V39w",
        "colab_type": "code",
        "colab": {}
      },
      "source": [
        "courses.insert(5,'Physics')"
      ],
      "execution_count": 74,
      "outputs": []
    },
    {
      "cell_type": "code",
      "metadata": {
        "id": "r6EFHVdmV-f1",
        "colab_type": "code",
        "colab": {
          "base_uri": "https://localhost:8080/",
          "height": 34
        },
        "outputId": "d301068b-2726-40d4-e06a-49b8eec2ecf1"
      },
      "source": [
        "courses"
      ],
      "execution_count": 75,
      "outputs": [
        {
          "output_type": "execute_result",
          "data": {
            "text/plain": [
              "['History', 'Math', 'Science', 'Social', 'Art', 'Physics']"
            ]
          },
          "metadata": {
            "tags": []
          },
          "execution_count": 75
        }
      ]
    },
    {
      "cell_type": "code",
      "metadata": {
        "id": "O_aHU79TV_kW",
        "colab_type": "code",
        "colab": {}
      },
      "source": [
        "# List with in a list\n",
        "courses_2 = ['Data Science','NLP']"
      ],
      "execution_count": 76,
      "outputs": []
    },
    {
      "cell_type": "code",
      "metadata": {
        "id": "RX35KjD9WSf4",
        "colab_type": "code",
        "colab": {}
      },
      "source": [
        "courses.insert(0, courses_2)"
      ],
      "execution_count": 77,
      "outputs": []
    },
    {
      "cell_type": "code",
      "metadata": {
        "id": "AOVvyo5hWrVR",
        "colab_type": "code",
        "colab": {
          "base_uri": "https://localhost:8080/",
          "height": 136
        },
        "outputId": "ee1dfc5b-1784-4c70-d881-c18f113492e5"
      },
      "source": [
        "courses"
      ],
      "execution_count": 78,
      "outputs": [
        {
          "output_type": "execute_result",
          "data": {
            "text/plain": [
              "[['Data Science', 'NLP'],\n",
              " 'History',\n",
              " 'Math',\n",
              " 'Science',\n",
              " 'Social',\n",
              " 'Art',\n",
              " 'Physics']"
            ]
          },
          "metadata": {
            "tags": []
          },
          "execution_count": 78
        }
      ]
    },
    {
      "cell_type": "code",
      "metadata": {
        "id": "oWpoU1_HWsa7",
        "colab_type": "code",
        "colab": {
          "base_uri": "https://localhost:8080/",
          "height": 34
        },
        "outputId": "2934d9cb-e504-43f9-f818-8a1bc3426738"
      },
      "source": [
        "print(courses[0])"
      ],
      "execution_count": 79,
      "outputs": [
        {
          "output_type": "stream",
          "text": [
            "['Data Science', 'NLP']\n"
          ],
          "name": "stdout"
        }
      ]
    },
    {
      "cell_type": "code",
      "metadata": {
        "id": "C743VifuWw8D",
        "colab_type": "code",
        "colab": {
          "base_uri": "https://localhost:8080/",
          "height": 170
        },
        "outputId": "9cc965a9-081a-4cff-f37f-2d2b2945b60f"
      },
      "source": [
        "# Extend\n",
        "courses_2 = ['Data Science','NLP']\n",
        "courses.extend(courses_2)\n",
        "courses"
      ],
      "execution_count": 80,
      "outputs": [
        {
          "output_type": "execute_result",
          "data": {
            "text/plain": [
              "[['Data Science', 'NLP'],\n",
              " 'History',\n",
              " 'Math',\n",
              " 'Science',\n",
              " 'Social',\n",
              " 'Art',\n",
              " 'Physics',\n",
              " 'Data Science',\n",
              " 'NLP']"
            ]
          },
          "metadata": {
            "tags": []
          },
          "execution_count": 80
        }
      ]
    },
    {
      "cell_type": "code",
      "metadata": {
        "id": "oGb2AUQEW9hv",
        "colab_type": "code",
        "colab": {}
      },
      "source": [
        "courses.remove('Science')"
      ],
      "execution_count": 81,
      "outputs": []
    },
    {
      "cell_type": "code",
      "metadata": {
        "id": "43CYL6AnXUO_",
        "colab_type": "code",
        "colab": {
          "base_uri": "https://localhost:8080/",
          "height": 34
        },
        "outputId": "3a41dc6a-4af1-435f-ecf3-c12995a72fd7"
      },
      "source": [
        "print(courses)"
      ],
      "execution_count": 82,
      "outputs": [
        {
          "output_type": "stream",
          "text": [
            "[['Data Science', 'NLP'], 'History', 'Math', 'Social', 'Art', 'Physics', 'Data Science', 'NLP']\n"
          ],
          "name": "stdout"
        }
      ]
    },
    {
      "cell_type": "code",
      "metadata": {
        "id": "kp6UWeDsXl2B",
        "colab_type": "code",
        "colab": {
          "base_uri": "https://localhost:8080/",
          "height": 35
        },
        "outputId": "33c91012-6ef0-44a9-e00f-36825d9a1b2d"
      },
      "source": [
        "courses.pop()"
      ],
      "execution_count": 83,
      "outputs": [
        {
          "output_type": "execute_result",
          "data": {
            "application/vnd.google.colaboratory.intrinsic+json": {
              "type": "string"
            },
            "text/plain": [
              "'NLP'"
            ]
          },
          "metadata": {
            "tags": []
          },
          "execution_count": 83
        }
      ]
    },
    {
      "cell_type": "code",
      "metadata": {
        "id": "oy-SW8V4Xsm6",
        "colab_type": "code",
        "colab": {
          "base_uri": "https://localhost:8080/",
          "height": 136
        },
        "outputId": "250ebd5d-042d-40ce-8e04-b3ee08881055"
      },
      "source": [
        "courses"
      ],
      "execution_count": 84,
      "outputs": [
        {
          "output_type": "execute_result",
          "data": {
            "text/plain": [
              "[['Data Science', 'NLP'],\n",
              " 'History',\n",
              " 'Math',\n",
              " 'Social',\n",
              " 'Art',\n",
              " 'Physics',\n",
              " 'Data Science']"
            ]
          },
          "metadata": {
            "tags": []
          },
          "execution_count": 84
        }
      ]
    },
    {
      "cell_type": "code",
      "metadata": {
        "id": "isJz46FWXt8e",
        "colab_type": "code",
        "colab": {
          "base_uri": "https://localhost:8080/",
          "height": 35
        },
        "outputId": "2f2fd9cd-1121-454d-912b-150c9d3c32ce"
      },
      "source": [
        "popped = courses.pop()\n",
        "popped"
      ],
      "execution_count": 85,
      "outputs": [
        {
          "output_type": "execute_result",
          "data": {
            "application/vnd.google.colaboratory.intrinsic+json": {
              "type": "string"
            },
            "text/plain": [
              "'Data Science'"
            ]
          },
          "metadata": {
            "tags": []
          },
          "execution_count": 85
        }
      ]
    },
    {
      "cell_type": "code",
      "metadata": {
        "id": "P3AAheA_X6mQ",
        "colab_type": "code",
        "colab": {
          "base_uri": "https://localhost:8080/",
          "height": 34
        },
        "outputId": "77da76fe-ab05-451a-ff85-6ac109bfa783"
      },
      "source": [
        "courses"
      ],
      "execution_count": 86,
      "outputs": [
        {
          "output_type": "execute_result",
          "data": {
            "text/plain": [
              "[['Data Science', 'NLP'], 'History', 'Math', 'Social', 'Art', 'Physics']"
            ]
          },
          "metadata": {
            "tags": []
          },
          "execution_count": 86
        }
      ]
    },
    {
      "cell_type": "code",
      "metadata": {
        "id": "6yYcR6uWX9zY",
        "colab_type": "code",
        "colab": {}
      },
      "source": [
        "Name = ['Anirudh','Vandu','Golu','Darwin']"
      ],
      "execution_count": 87,
      "outputs": []
    },
    {
      "cell_type": "code",
      "metadata": {
        "id": "-UI4N_ocYLFo",
        "colab_type": "code",
        "colab": {}
      },
      "source": [
        "Name.reverse()"
      ],
      "execution_count": 88,
      "outputs": []
    },
    {
      "cell_type": "code",
      "metadata": {
        "id": "9Rjny4ZCYMk6",
        "colab_type": "code",
        "colab": {
          "base_uri": "https://localhost:8080/",
          "height": 34
        },
        "outputId": "08bea34e-657a-475b-ccb1-801efde87085"
      },
      "source": [
        "Name"
      ],
      "execution_count": 89,
      "outputs": [
        {
          "output_type": "execute_result",
          "data": {
            "text/plain": [
              "['Darwin', 'Golu', 'Vandu', 'Anirudh']"
            ]
          },
          "metadata": {
            "tags": []
          },
          "execution_count": 89
        }
      ]
    },
    {
      "cell_type": "code",
      "metadata": {
        "id": "WVm12MI4YNuz",
        "colab_type": "code",
        "colab": {
          "base_uri": "https://localhost:8080/",
          "height": 34
        },
        "outputId": "b53660f4-2093-40bf-dd73-d35643a21e6e"
      },
      "source": [
        "Name.sort()\n",
        "print(Name)"
      ],
      "execution_count": 90,
      "outputs": [
        {
          "output_type": "stream",
          "text": [
            "['Anirudh', 'Darwin', 'Golu', 'Vandu']\n"
          ],
          "name": "stdout"
        }
      ]
    },
    {
      "cell_type": "code",
      "metadata": {
        "id": "qIuYQNQ-YTmX",
        "colab_type": "code",
        "colab": {
          "base_uri": "https://localhost:8080/",
          "height": 34
        },
        "outputId": "23ba79dc-86a0-434a-d28b-a34027b8bf62"
      },
      "source": [
        "Name.sort(reverse = True)\n",
        "Name"
      ],
      "execution_count": 91,
      "outputs": [
        {
          "output_type": "execute_result",
          "data": {
            "text/plain": [
              "['Vandu', 'Golu', 'Darwin', 'Anirudh']"
            ]
          },
          "metadata": {
            "tags": []
          },
          "execution_count": 91
        }
      ]
    },
    {
      "cell_type": "code",
      "metadata": {
        "id": "-qFWynmQZz58",
        "colab_type": "code",
        "colab": {
          "base_uri": "https://localhost:8080/",
          "height": 34
        },
        "outputId": "fb1b7220-d243-4db2-89c7-1bc70380f64e"
      },
      "source": [
        "num = [10, 20, 35, 5, 44, 35]\n",
        "num"
      ],
      "execution_count": 93,
      "outputs": [
        {
          "output_type": "execute_result",
          "data": {
            "text/plain": [
              "[10, 20, 35, 5, 44, 35]"
            ]
          },
          "metadata": {
            "tags": []
          },
          "execution_count": 93
        }
      ]
    },
    {
      "cell_type": "code",
      "metadata": {
        "id": "8ViFkK3FaDIF",
        "colab_type": "code",
        "colab": {
          "base_uri": "https://localhost:8080/",
          "height": 68
        },
        "outputId": "fef6f222-2d0e-45aa-a311-80d28b294a4a"
      },
      "source": [
        "print(min(num))\n",
        "print(max(num))\n",
        "print(sum(num))"
      ],
      "execution_count": 97,
      "outputs": [
        {
          "output_type": "stream",
          "text": [
            "5\n",
            "44\n",
            "149\n"
          ],
          "name": "stdout"
        }
      ]
    },
    {
      "cell_type": "code",
      "metadata": {
        "id": "ZCndTOleaEy9",
        "colab_type": "code",
        "colab": {
          "base_uri": "https://localhost:8080/",
          "height": 34
        },
        "outputId": "3ae52197-f30f-4f9a-d12b-ead4a7b5c546"
      },
      "source": [
        "courses.index('Physics')"
      ],
      "execution_count": 98,
      "outputs": [
        {
          "output_type": "execute_result",
          "data": {
            "text/plain": [
              "5"
            ]
          },
          "metadata": {
            "tags": []
          },
          "execution_count": 98
        }
      ]
    },
    {
      "cell_type": "code",
      "metadata": {
        "id": "DPz1x2C0aS7t",
        "colab_type": "code",
        "colab": {
          "base_uri": "https://localhost:8080/",
          "height": 34
        },
        "outputId": "037808b4-1710-4e8b-92ff-e1fdfe921f13"
      },
      "source": [
        "print('Physics' in courses)"
      ],
      "execution_count": 99,
      "outputs": [
        {
          "output_type": "stream",
          "text": [
            "True\n"
          ],
          "name": "stdout"
        }
      ]
    },
    {
      "cell_type": "code",
      "metadata": {
        "id": "TAM-Q91iadR9",
        "colab_type": "code",
        "colab": {
          "base_uri": "https://localhost:8080/",
          "height": 119
        },
        "outputId": "2f1fa444-e506-41cd-c382-416a84b964ba"
      },
      "source": [
        "for course in courses:\n",
        "  print(course)"
      ],
      "execution_count": 101,
      "outputs": [
        {
          "output_type": "stream",
          "text": [
            "['Data Science', 'NLP']\n",
            "History\n",
            "Math\n",
            "Social\n",
            "Art\n",
            "Physics\n"
          ],
          "name": "stdout"
        }
      ]
    },
    {
      "cell_type": "code",
      "metadata": {
        "id": "7g1DJb6PamYX",
        "colab_type": "code",
        "colab": {
          "base_uri": "https://localhost:8080/",
          "height": 119
        },
        "outputId": "3c7bf41b-2b1d-4408-ca65-7b3732a555c8"
      },
      "source": [
        "for index, courses in enumerate(courses):\n",
        "  print(index, courses)"
      ],
      "execution_count": 102,
      "outputs": [
        {
          "output_type": "stream",
          "text": [
            "0 ['Data Science', 'NLP']\n",
            "1 History\n",
            "2 Math\n",
            "3 Social\n",
            "4 Art\n",
            "5 Physics\n"
          ],
          "name": "stdout"
        }
      ]
    },
    {
      "cell_type": "code",
      "metadata": {
        "id": "QkVJDq5wbDIR",
        "colab_type": "code",
        "colab": {
          "base_uri": "https://localhost:8080/",
          "height": 35
        },
        "outputId": "0fbdd2af-b5f6-47f0-d1b5-44421e1ed005"
      },
      "source": [
        "Name_str = (' - ').join(Name)\n",
        "Name_str"
      ],
      "execution_count": 107,
      "outputs": [
        {
          "output_type": "execute_result",
          "data": {
            "application/vnd.google.colaboratory.intrinsic+json": {
              "type": "string"
            },
            "text/plain": [
              "'Vandu - Golu - Darwin - Anirudh'"
            ]
          },
          "metadata": {
            "tags": []
          },
          "execution_count": 107
        }
      ]
    },
    {
      "cell_type": "code",
      "metadata": {
        "id": "GUr8YzWubzAg",
        "colab_type": "code",
        "colab": {
          "base_uri": "https://localhost:8080/",
          "height": 34
        },
        "outputId": "179ec296-39f3-4481-d21a-92624a60004f"
      },
      "source": [
        "newlist = Name_str.split(' - ')\n",
        "newlist"
      ],
      "execution_count": 116,
      "outputs": [
        {
          "output_type": "execute_result",
          "data": {
            "text/plain": [
              "['Vandu', 'Golu', 'Darwin', 'Anirudh']"
            ]
          },
          "metadata": {
            "tags": []
          },
          "execution_count": 116
        }
      ]
    },
    {
      "cell_type": "code",
      "metadata": {
        "id": "cJx6r-wMehvt",
        "colab_type": "code",
        "colab": {
          "base_uri": "https://localhost:8080/",
          "height": 85
        },
        "outputId": "a05160c7-8521-48ec-a067-fbfc274148bd"
      },
      "source": [
        "list1=['Apple','Banana','Mango','Grapes']\n",
        "list2=list1\n",
        "print(list1)\n",
        "print(list2)\n",
        "\n",
        "list1[0] = 'Papaya'\n",
        "\n",
        "print(list1)\n",
        "print(list2)"
      ],
      "execution_count": 121,
      "outputs": [
        {
          "output_type": "stream",
          "text": [
            "['Apple', 'Banana', 'Mango', 'Grapes']\n",
            "['Apple', 'Banana', 'Mango', 'Grapes']\n",
            "['Papaya', 'Banana', 'Mango', 'Grapes']\n",
            "['Papaya', 'Banana', 'Mango', 'Grapes']\n"
          ],
          "name": "stdout"
        }
      ]
    },
    {
      "cell_type": "markdown",
      "metadata": {
        "id": "fyVvmm5qdypg",
        "colab_type": "text"
      },
      "source": [
        "**Tuples ----> Immutable**"
      ]
    },
    {
      "cell_type": "code",
      "metadata": {
        "id": "odR58Jtrdq_D",
        "colab_type": "code",
        "colab": {
          "base_uri": "https://localhost:8080/",
          "height": 51
        },
        "outputId": "85d9532b-923c-4d79-aba1-1e29b800f584"
      },
      "source": [
        "tup1 = ('Math','Science','Social','CS')\n",
        "tup2 = tup1\n",
        "\n",
        "print(tup1)\n",
        "print(tup2)"
      ],
      "execution_count": 124,
      "outputs": [
        {
          "output_type": "stream",
          "text": [
            "('Math', 'Science', 'Social', 'CS')\n",
            "('Math', 'Science', 'Social', 'CS')\n"
          ],
          "name": "stdout"
        }
      ]
    },
    {
      "cell_type": "markdown",
      "metadata": {
        "id": "atOun-jAf18f",
        "colab_type": "text"
      },
      "source": [
        "**Sets ----> Value, unordered and no duplicates**"
      ]
    },
    {
      "cell_type": "code",
      "metadata": {
        "id": "Zv7EZQ-efXAv",
        "colab_type": "code",
        "colab": {
          "base_uri": "https://localhost:8080/",
          "height": 34
        },
        "outputId": "65175544-a2db-453e-9662-79f8d7d36323"
      },
      "source": [
        "Subjects = {'Math', 'Science', 'Social', 'DataScience'}\n",
        "Subjects"
      ],
      "execution_count": 131,
      "outputs": [
        {
          "output_type": "execute_result",
          "data": {
            "text/plain": [
              "{'DataScience', 'Math', 'Science', 'Social'}"
            ]
          },
          "metadata": {
            "tags": []
          },
          "execution_count": 131
        }
      ]
    },
    {
      "cell_type": "code",
      "metadata": {
        "id": "Dp4jzjX7gQNd",
        "colab_type": "code",
        "colab": {
          "base_uri": "https://localhost:8080/",
          "height": 34
        },
        "outputId": "71cdaa97-45e7-4bf3-de3c-c1107e4ef641"
      },
      "source": [
        "Subjects = {'Math', 'Science', 'Social', 'DataScience', 'Math'}\n",
        "Subjects"
      ],
      "execution_count": 132,
      "outputs": [
        {
          "output_type": "execute_result",
          "data": {
            "text/plain": [
              "{'DataScience', 'Math', 'Science', 'Social'}"
            ]
          },
          "metadata": {
            "tags": []
          },
          "execution_count": 132
        }
      ]
    },
    {
      "cell_type": "code",
      "metadata": {
        "id": "1suONSepglg7",
        "colab_type": "code",
        "colab": {
          "base_uri": "https://localhost:8080/",
          "height": 34
        },
        "outputId": "59d2da4e-c9e6-441c-c33c-fce6f5061076"
      },
      "source": [
        "print('Math' in Subjects)"
      ],
      "execution_count": 133,
      "outputs": [
        {
          "output_type": "stream",
          "text": [
            "True\n"
          ],
          "name": "stdout"
        }
      ]
    },
    {
      "cell_type": "code",
      "metadata": {
        "id": "yicCjoOdgsOT",
        "colab_type": "code",
        "colab": {}
      },
      "source": [
        "sub={'History', 'Art', 'Design', 'Science'}"
      ],
      "execution_count": 134,
      "outputs": []
    },
    {
      "cell_type": "code",
      "metadata": {
        "id": "lyPUsKZbg9Jt",
        "colab_type": "code",
        "colab": {
          "base_uri": "https://localhost:8080/",
          "height": 85
        },
        "outputId": "501e7e2e-a3a6-4bb4-d3f4-2922a86b6164"
      },
      "source": [
        "print(Subjects.intersection(sub))\n",
        "print(Subjects.union(sub))\n",
        "print(Subjects.difference(sub))\n",
        "print(sub.difference(Subjects))"
      ],
      "execution_count": 138,
      "outputs": [
        {
          "output_type": "stream",
          "text": [
            "{'Science'}\n",
            "{'DataScience', 'History', 'Science', 'Art', 'Social', 'Design', 'Math'}\n",
            "{'Social', 'Math', 'DataScience'}\n",
            "{'Design', 'History', 'Art'}\n"
          ],
          "name": "stdout"
        }
      ]
    },
    {
      "cell_type": "code",
      "metadata": {
        "id": "ugP-Emg5hBYx",
        "colab_type": "code",
        "colab": {
          "base_uri": "https://localhost:8080/",
          "height": 68
        },
        "outputId": "6a7736dc-4780-493c-cf0c-bbe6dd1ddeb7"
      },
      "source": [
        "empty_list = []\n",
        "empty_tuple = ()\n",
        "empty_set = set()\n",
        "\n",
        "print(empty_list)\n",
        "print(empty_tuple)\n",
        "print(empty_set)"
      ],
      "execution_count": 140,
      "outputs": [
        {
          "output_type": "stream",
          "text": [
            "[]\n",
            "()\n",
            "set()\n"
          ],
          "name": "stdout"
        }
      ]
    },
    {
      "cell_type": "code",
      "metadata": {
        "id": "aWlqG9x6iMC8",
        "colab_type": "code",
        "colab": {}
      },
      "source": [
        ""
      ],
      "execution_count": null,
      "outputs": []
    }
  ]
}