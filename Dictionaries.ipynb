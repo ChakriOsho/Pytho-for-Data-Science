{
  "nbformat": 4,
  "nbformat_minor": 0,
  "metadata": {
    "colab": {
      "name": "Dictionaries.ipynb",
      "provenance": []
    },
    "kernelspec": {
      "name": "python3",
      "display_name": "Python 3"
    }
  },
  "cells": [
    {
      "cell_type": "markdown",
      "metadata": {
        "id": "HnPj6u74Wv1l",
        "colab_type": "text"
      },
      "source": [
        "**Dictionaries ----> Keys:Values**"
      ]
    },
    {
      "cell_type": "code",
      "metadata": {
        "id": "oPYpo586WCr4",
        "colab_type": "code",
        "colab": {
          "base_uri": "https://localhost:8080/",
          "height": 34
        },
        "outputId": "353e28e5-1853-4c98-f2af-7ff21c90543f"
      },
      "source": [
        "student = {'Name':'Golu', 'Age':18, 'Courses':['Math','Art']}\n",
        "student"
      ],
      "execution_count": 2,
      "outputs": [
        {
          "output_type": "execute_result",
          "data": {
            "text/plain": [
              "{'Age': 18, 'Courses': ['Math', 'Art'], 'Name': 'Golu'}"
            ]
          },
          "metadata": {
            "tags": []
          },
          "execution_count": 2
        }
      ]
    },
    {
      "cell_type": "code",
      "metadata": {
        "id": "vo1sBZraXSOy",
        "colab_type": "code",
        "colab": {
          "base_uri": "https://localhost:8080/",
          "height": 102
        },
        "outputId": "466b888b-ceb9-470a-8fed-0c4afe1a6457"
      },
      "source": [
        "print(student['Name'])\n",
        "print(student['Courses'])\n",
        "print(student.get('Courses'))\n",
        "print(student.get('phone'))\n",
        "print(student.get('phone','Not-Found'))"
      ],
      "execution_count": 12,
      "outputs": [
        {
          "output_type": "stream",
          "text": [
            "Golu\n",
            "['Math', 'Art']\n",
            "['Math', 'Art']\n",
            "None\n",
            "Not-Found\n"
          ],
          "name": "stdout"
        }
      ]
    },
    {
      "cell_type": "code",
      "metadata": {
        "id": "6gNofFjkXc_X",
        "colab_type": "code",
        "colab": {
          "base_uri": "https://localhost:8080/",
          "height": 34
        },
        "outputId": "e7c635cb-7ada-4c15-ba51-bfaa8fc8dc15"
      },
      "source": [
        "student['Phone'] = '9880762345'\n",
        "print(student)"
      ],
      "execution_count": 13,
      "outputs": [
        {
          "output_type": "stream",
          "text": [
            "{'Name': 'Golu', 'Age': 18, 'Courses': ['Math', 'Art'], 'Phone': '9880762345'}\n"
          ],
          "name": "stdout"
        }
      ]
    },
    {
      "cell_type": "code",
      "metadata": {
        "id": "4HjN8DXYdQJY",
        "colab_type": "code",
        "colab": {}
      },
      "source": [
        "# Update Name\n",
        "student['Name'] = 'Madhu'"
      ],
      "execution_count": 14,
      "outputs": []
    },
    {
      "cell_type": "code",
      "metadata": {
        "id": "6vWNgzpUdZOL",
        "colab_type": "code",
        "colab": {
          "base_uri": "https://localhost:8080/",
          "height": 34
        },
        "outputId": "0649e5a7-9fd3-45a1-f5fc-353b5e6a723c"
      },
      "source": [
        "print(student)"
      ],
      "execution_count": 15,
      "outputs": [
        {
          "output_type": "stream",
          "text": [
            "{'Name': 'Madhu', 'Age': 18, 'Courses': ['Math', 'Art'], 'Phone': '9880762345'}\n"
          ],
          "name": "stdout"
        }
      ]
    },
    {
      "cell_type": "code",
      "metadata": {
        "id": "EA0LVNCodbRo",
        "colab_type": "code",
        "colab": {
          "base_uri": "https://localhost:8080/",
          "height": 34
        },
        "outputId": "6cef9d4c-b886-4652-91bc-1f32a689f1be"
      },
      "source": [
        "student.update({'Name':'Vandu','Age':33,'Phone': '555-5555'})\n",
        "print(student)"
      ],
      "execution_count": 18,
      "outputs": [
        {
          "output_type": "stream",
          "text": [
            "{'Name': 'Vandu', 'Age': 33, 'Courses': ['Math', 'Art'], 'Phone': '555-5555'}\n"
          ],
          "name": "stdout"
        }
      ]
    },
    {
      "cell_type": "code",
      "metadata": {
        "id": "e13Y4Pz8eF40",
        "colab_type": "code",
        "colab": {}
      },
      "source": [
        "student['Age'] = 33"
      ],
      "execution_count": 21,
      "outputs": []
    },
    {
      "cell_type": "code",
      "metadata": {
        "id": "CCrcxQ_weTCZ",
        "colab_type": "code",
        "colab": {
          "base_uri": "https://localhost:8080/",
          "height": 34
        },
        "outputId": "3bea7ce4-b55b-4f5a-cb1a-87a2f5fdb4b1"
      },
      "source": [
        "print(student)"
      ],
      "execution_count": 22,
      "outputs": [
        {
          "output_type": "stream",
          "text": [
            "{'Name': 'Vandu', 'Courses': ['Math', 'Art'], 'Phone': '555-5555', 'Age': 33}\n"
          ],
          "name": "stdout"
        }
      ]
    },
    {
      "cell_type": "code",
      "metadata": {
        "id": "HAPzKiZqeUtB",
        "colab_type": "code",
        "colab": {
          "base_uri": "https://localhost:8080/",
          "height": 34
        },
        "outputId": "cec041a2-2283-4bf2-9b49-615aa59b7649"
      },
      "source": [
        "del student['Age']\n",
        "print(student)"
      ],
      "execution_count": 23,
      "outputs": [
        {
          "output_type": "stream",
          "text": [
            "{'Name': 'Vandu', 'Courses': ['Math', 'Art'], 'Phone': '555-5555'}\n"
          ],
          "name": "stdout"
        }
      ]
    },
    {
      "cell_type": "code",
      "metadata": {
        "id": "8QPJtnhoeZSq",
        "colab_type": "code",
        "colab": {
          "base_uri": "https://localhost:8080/",
          "height": 34
        },
        "outputId": "d87b6397-6dd8-40ed-8e14-f79b0d714408"
      },
      "source": [
        "student['Age'] = 33\n",
        "print(student)"
      ],
      "execution_count": 26,
      "outputs": [
        {
          "output_type": "stream",
          "text": [
            "{'Name': 'Vandu', 'Courses': ['Math', 'Art'], 'Phone': '555-5555', 'Age': 33}\n"
          ],
          "name": "stdout"
        }
      ]
    },
    {
      "cell_type": "code",
      "metadata": {
        "id": "3CECdZzke8u_",
        "colab_type": "code",
        "colab": {
          "base_uri": "https://localhost:8080/",
          "height": 51
        },
        "outputId": "b73e2fe0-1a37-43da-d432-0fa3d995275c"
      },
      "source": [
        "Age = student.pop('Age')\n",
        "print(student)\n",
        "print(Age)"
      ],
      "execution_count": 27,
      "outputs": [
        {
          "output_type": "stream",
          "text": [
            "{'Name': 'Vandu', 'Courses': ['Math', 'Art'], 'Phone': '555-5555'}\n",
            "33\n"
          ],
          "name": "stdout"
        }
      ]
    },
    {
      "cell_type": "code",
      "metadata": {
        "id": "UCoeD5rzfIWe",
        "colab_type": "code",
        "colab": {
          "base_uri": "https://localhost:8080/",
          "height": 34
        },
        "outputId": "ef3fb000-0b51-480a-a037-7f03711c3366"
      },
      "source": [
        "print(len(student))"
      ],
      "execution_count": 28,
      "outputs": [
        {
          "output_type": "stream",
          "text": [
            "3\n"
          ],
          "name": "stdout"
        }
      ]
    },
    {
      "cell_type": "code",
      "metadata": {
        "id": "HzoIjmCTfWjI",
        "colab_type": "code",
        "colab": {
          "base_uri": "https://localhost:8080/",
          "height": 68
        },
        "outputId": "83d1afe7-dc75-44db-87a4-eeccd7b05900"
      },
      "source": [
        "print(student.keys())\n",
        "print(student.values())\n",
        "print(student.items())"
      ],
      "execution_count": 31,
      "outputs": [
        {
          "output_type": "stream",
          "text": [
            "dict_keys(['Name', 'Courses', 'Phone'])\n",
            "dict_values(['Vandu', ['Math', 'Art'], '555-5555'])\n",
            "dict_items([('Name', 'Vandu'), ('Courses', ['Math', 'Art']), ('Phone', '555-5555')])\n"
          ],
          "name": "stdout"
        }
      ]
    },
    {
      "cell_type": "code",
      "metadata": {
        "id": "XM0fyHJ8fZVX",
        "colab_type": "code",
        "colab": {
          "base_uri": "https://localhost:8080/",
          "height": 68
        },
        "outputId": "a9278aa9-e943-4522-ebbf-7fd23aaab8aa"
      },
      "source": [
        "for key,value in student.items():\n",
        "  print(key, value)"
      ],
      "execution_count": 36,
      "outputs": [
        {
          "output_type": "stream",
          "text": [
            "Name Vandu\n",
            "Courses ['Math', 'Art']\n",
            "Phone 555-5555\n"
          ],
          "name": "stdout"
        }
      ]
    },
    {
      "cell_type": "code",
      "metadata": {
        "id": "7WwQ89segS2A",
        "colab_type": "code",
        "colab": {}
      },
      "source": [
        ""
      ],
      "execution_count": null,
      "outputs": []
    }
  ]
}