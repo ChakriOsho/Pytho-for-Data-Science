{
  "nbformat": 4,
  "nbformat_minor": 0,
  "metadata": {
    "colab": {
      "name": "OOPS.ipynb",
      "provenance": [],
      "collapsed_sections": []
    },
    "kernelspec": {
      "name": "python3",
      "display_name": "Python 3"
    }
  },
  "cells": [
    {
      "cell_type": "markdown",
      "metadata": {
        "id": "DltucLLVHntz",
        "colab_type": "text"
      },
      "source": [
        "**Class and Object**"
      ]
    },
    {
      "cell_type": "code",
      "metadata": {
        "id": "vCc-yYG9ImFg",
        "colab_type": "code",
        "colab": {
          "base_uri": "https://localhost:8080/",
          "height": 34
        },
        "outputId": "186c2763-97f3-4d57-891c-70ad9694d953"
      },
      "source": [
        "class Computer:\n",
        "\n",
        "  def config(self):   # ---> Method\n",
        "    print(\"i5, 16gb, 1TB\")\n",
        "  \n",
        "comp1 = Computer()  # Here comp1 is object\n",
        "Computer.config(comp1)"
      ],
      "execution_count": 1,
      "outputs": [
        {
          "output_type": "stream",
          "text": [
            "i5, 16gb, 1TB\n"
          ],
          "name": "stdout"
        }
      ]
    },
    {
      "cell_type": "code",
      "metadata": {
        "id": "8rZoaTI-MmfE",
        "colab_type": "code",
        "colab": {
          "base_uri": "https://localhost:8080/",
          "height": 52
        },
        "outputId": "b4c440b2-eebf-47de-dafc-590ab0804bed"
      },
      "source": [
        "class Computer:\n",
        "\n",
        "  def config(self):\n",
        "    print(\"i5, 16gb, 1TB\")\n",
        "  \n",
        "comp1 = Computer()\n",
        "comp2 = Computer()\n",
        "\n",
        "comp1.config()\n",
        "comp2.config()\n"
      ],
      "execution_count": 2,
      "outputs": [
        {
          "output_type": "stream",
          "text": [
            "i5, 16gb, 1TB\n",
            "i5, 16gb, 1TB\n"
          ],
          "name": "stdout"
        }
      ]
    },
    {
      "cell_type": "markdown",
      "metadata": {
        "id": "nR0xZOgAcf6e",
        "colab_type": "text"
      },
      "source": [
        "__INIT__ Method"
      ]
    },
    {
      "cell_type": "code",
      "metadata": {
        "id": "QOaL4X8Zci9A",
        "colab_type": "code",
        "colab": {
          "base_uri": "https://localhost:8080/",
          "height": 87
        },
        "outputId": "f5a6ca63-7a08-463c-b221-a16f10691ba9"
      },
      "source": [
        "class Computer:\n",
        "\n",
        "  def __init__(self): # __INIT__ ---> used to initialize variables\n",
        "      print('in init')\n",
        "  def config(self):\n",
        "    print('ANirudh')\n",
        "    \n",
        "Comp1 = Computer()\n",
        "Comp2 = Computer()\n",
        "\n",
        "Comp1.config()\n",
        "Comp2.config()\n",
        "\n",
        "\n"
      ],
      "execution_count": 3,
      "outputs": [
        {
          "output_type": "stream",
          "text": [
            "in init\n",
            "in init\n",
            "ANirudh\n",
            "ANirudh\n"
          ],
          "name": "stdout"
        }
      ]
    },
    {
      "cell_type": "code",
      "metadata": {
        "id": "BTHZn1UofeZA",
        "colab_type": "code",
        "colab": {
          "base_uri": "https://localhost:8080/",
          "height": 52
        },
        "outputId": "5971e8e8-f7ae-404f-c2c8-32709b56801e"
      },
      "source": [
        "class computer():\n",
        "\n",
        "  def __init__(self, cpu, ram):\n",
        "    self.cpu = cpu\n",
        "    self.ram = ram\n",
        "\n",
        "  def config(self):\n",
        "    print('The config is:',self.cpu, self.ram)\n",
        "\n",
        "comp1 = computer('i5', 16)\n",
        "comp2 = computer('i6', 24)\n",
        "\n",
        "comp1.config()\n",
        "comp2.config()"
      ],
      "execution_count": 4,
      "outputs": [
        {
          "output_type": "stream",
          "text": [
            "The config is: i5 16\n",
            "The config is: i6 24\n"
          ],
          "name": "stdout"
        }
      ]
    },
    {
      "cell_type": "markdown",
      "metadata": {
        "id": "gbbL4HsfnaV6",
        "colab_type": "text"
      },
      "source": [
        "**Constructor, Self and Comparing Objects**"
      ]
    },
    {
      "cell_type": "code",
      "metadata": {
        "id": "N_XLoPg7ngY3",
        "colab_type": "code",
        "colab": {
          "base_uri": "https://localhost:8080/",
          "height": 52
        },
        "outputId": "2eb2b648-07dd-424b-b1a7-5acba21cbd48"
      },
      "source": [
        "class computer:\n",
        "  pass\n",
        "\n",
        "c1 = computer()\n",
        "c2 = computer()\n",
        "print(id(c1))\n",
        "print(id(c2))"
      ],
      "execution_count": 5,
      "outputs": [
        {
          "output_type": "stream",
          "text": [
            "139672044216896\n",
            "139672044216504\n"
          ],
          "name": "stdout"
        }
      ]
    },
    {
      "cell_type": "code",
      "metadata": {
        "id": "EyVzWnx9ofJ3",
        "colab_type": "code",
        "colab": {
          "base_uri": "https://localhost:8080/",
          "height": 52
        },
        "outputId": "1846140e-562f-4f1f-8482-70dfda9c1ab2"
      },
      "source": [
        "class computer:\n",
        "\n",
        "  def __init__(self):\n",
        "    self.name = 'Anirudh'\n",
        "    self.age = 33\n",
        "\n",
        "c1 = computer()\n",
        "c2 = computer()\n",
        "\n",
        "c1.name = 'Vandu'\n",
        "\n",
        "print(c1.name)\n",
        "print(c2.name)\n"
      ],
      "execution_count": 6,
      "outputs": [
        {
          "output_type": "stream",
          "text": [
            "Vandu\n",
            "Anirudh\n"
          ],
          "name": "stdout"
        }
      ]
    },
    {
      "cell_type": "code",
      "metadata": {
        "id": "-1hJWechqNen",
        "colab_type": "code",
        "colab": {
          "base_uri": "https://localhost:8080/",
          "height": 52
        },
        "outputId": "f9331017-0e67-46a5-d56c-48b9fdff61cb"
      },
      "source": [
        "class computer():\n",
        "\n",
        "  def __init__(self):\n",
        "    self.name = 'Ani'\n",
        "    self.age = 33\n",
        "\n",
        "c1 = computer()\n",
        "c2 = computer()\n",
        "\n",
        "c1.name = 'Vandu'\n",
        "c1.age = 33\n",
        "\n",
        "print(c1.name,c1.age)\n",
        "print(c2.name,c2.age)"
      ],
      "execution_count": 7,
      "outputs": [
        {
          "output_type": "stream",
          "text": [
            "Vandu 33\n",
            "Ani 33\n"
          ],
          "name": "stdout"
        }
      ]
    },
    {
      "cell_type": "code",
      "metadata": {
        "id": "E8vbfax-qriv",
        "colab_type": "code",
        "colab": {
          "base_uri": "https://localhost:8080/",
          "height": 52
        },
        "outputId": "7f2bdda5-1597-4054-9eec-c7f2a99be894"
      },
      "source": [
        "# Update\n",
        "class computer():\n",
        "\n",
        "  def __init__(self):\n",
        "    self.name = 'Ani'\n",
        "    self.age = 33\n",
        "  \n",
        "  def update(self):  # self acts as a pointer\n",
        "    self.age =32\n",
        "\n",
        "c1 = computer()\n",
        "c2 = computer()\n",
        "\n",
        "c1.name = 'Vandu'\n",
        "c1.age = 33\n",
        "\n",
        "c2.update()\n",
        "\n",
        "print(c1.name,c1.age)\n",
        "print(c2.name,c2.age)"
      ],
      "execution_count": 8,
      "outputs": [
        {
          "output_type": "stream",
          "text": [
            "Vandu 33\n",
            "Ani 32\n"
          ],
          "name": "stdout"
        }
      ]
    },
    {
      "cell_type": "code",
      "metadata": {
        "id": "4tL9ch_Nr9SO",
        "colab_type": "code",
        "colab": {
          "base_uri": "https://localhost:8080/",
          "height": 70
        },
        "outputId": "60439663-3f70-4cf6-a531-a2f84eaa0c05"
      },
      "source": [
        "# Compare two objects\n",
        "\n",
        "class computer:\n",
        "\n",
        "  def __init__(self):\n",
        "    self.name = 'Anirudh'\n",
        "    self.age = 33\n",
        "\n",
        "  def compare(self,other):\n",
        "    if self.age == other.age:\n",
        "      return True\n",
        "    else:\n",
        "      return False\n",
        "  \n",
        "c1 = computer()\n",
        "c2 = computer()\n",
        "\n",
        "if c1.compare(c2):\n",
        "  print(\"They are same\")\n",
        "\n",
        "print(c1.name)\n",
        "print(c2.name)"
      ],
      "execution_count": 9,
      "outputs": [
        {
          "output_type": "stream",
          "text": [
            "They are same\n",
            "Anirudh\n",
            "Anirudh\n"
          ],
          "name": "stdout"
        }
      ]
    },
    {
      "cell_type": "markdown",
      "metadata": {
        "id": "HdK-2Y5l8wgH",
        "colab_type": "text"
      },
      "source": [
        "**Types of Variables**"
      ]
    },
    {
      "cell_type": "code",
      "metadata": {
        "id": "ji4HPoo-80h4",
        "colab_type": "code",
        "colab": {
          "base_uri": "https://localhost:8080/",
          "height": 52
        },
        "outputId": "950e62c7-d459-4060-c6a7-3357d7886af9"
      },
      "source": [
        "class car:\n",
        "  def __init__(self):\n",
        "    self.mil = 10\n",
        "    self.comp = 'BMW'  # Here mil, comp are instance variables\n",
        "\n",
        "c1 = car()\n",
        "c2 = car()\n",
        "\n",
        "c1.mil = 8\n",
        "\n",
        "print(c1.mil,c1.comp)\n",
        "print(c2.mil,c2.comp)"
      ],
      "execution_count": 10,
      "outputs": [
        {
          "output_type": "stream",
          "text": [
            "8 BMW\n",
            "10 BMW\n"
          ],
          "name": "stdout"
        }
      ]
    },
    {
      "cell_type": "code",
      "metadata": {
        "id": "uHsVLmF9-NO8",
        "colab_type": "code",
        "colab": {
          "base_uri": "https://localhost:8080/",
          "height": 52
        },
        "outputId": "40d167c3-d6d1-4a9e-b2ad-88f493f64858"
      },
      "source": [
        "class car:\n",
        "\n",
        "  wheels = 4 # class namespace\n",
        "\n",
        "  def __init__(self):\n",
        "    self.mil = 10\n",
        "    self.comp = 'BMW'  # Instance name space\n",
        "\n",
        "c1 = car()\n",
        "c2 = car()\n",
        "\n",
        "c1.mil = 12\n",
        "\n",
        "print(c1.mil,c1.comp,c1.wheels)\n",
        "print(c2.mil,c2.comp,c2.wheels)"
      ],
      "execution_count": 11,
      "outputs": [
        {
          "output_type": "stream",
          "text": [
            "12 BMW 4\n",
            "10 BMW 4\n"
          ],
          "name": "stdout"
        }
      ]
    },
    {
      "cell_type": "code",
      "metadata": {
        "id": "VusBXvmN-82f",
        "colab_type": "code",
        "colab": {
          "base_uri": "https://localhost:8080/",
          "height": 52
        },
        "outputId": "faca2440-d160-4b7b-e74b-730d0e6a8042"
      },
      "source": [
        "class car:\n",
        "\n",
        "  wheels = 4 # class namespace\n",
        "\n",
        "  def __init__(self):\n",
        "    self.mil = 10\n",
        "    self.comp = 'BMW'  # Instance name space\n",
        "\n",
        "c1 = car()\n",
        "c2 = car()\n",
        "\n",
        "c1.mil = 12\n",
        "car.wheels = 8\n",
        "\n",
        "print(c1.mil,c1.comp,c1.wheels)\n",
        "print(c2.mil,c2.comp,c2.wheels)"
      ],
      "execution_count": 12,
      "outputs": [
        {
          "output_type": "stream",
          "text": [
            "12 BMW 8\n",
            "10 BMW 8\n"
          ],
          "name": "stdout"
        }
      ]
    },
    {
      "cell_type": "markdown",
      "metadata": {
        "id": "oDKk6kdAa8tK",
        "colab_type": "text"
      },
      "source": [
        "**Types of Methods**"
      ]
    },
    {
      "cell_type": "code",
      "metadata": {
        "id": "53U1QwTQ_UlN",
        "colab_type": "code",
        "colab": {
          "base_uri": "https://localhost:8080/",
          "height": 70
        },
        "outputId": "27be17aa-139f-4972-c702-ff3a39c19dfc"
      },
      "source": [
        "class student:\n",
        "  school = \"LRG\"\n",
        "  def __init__(self,m1,m2,m3):\n",
        "    self.m1 = m1\n",
        "    self.m2 = m2\n",
        "    self.m3 = m3\n",
        "\n",
        "  def avg(self):  # Here Avg is instance method\n",
        "    return (self.m1 + self.m2 + self.m3)/3\n",
        "  \n",
        "\n",
        "s1 = student(39,46,78)\n",
        "s2 = student(45,78,98)\n",
        "s3 = student(67,89,23)\n",
        "\n",
        "print(s1.avg())\n",
        "print(s2.avg())\n",
        "print(s3.avg())\n"
      ],
      "execution_count": 13,
      "outputs": [
        {
          "output_type": "stream",
          "text": [
            "54.333333333333336\n",
            "73.66666666666667\n",
            "59.666666666666664\n"
          ],
          "name": "stdout"
        }
      ]
    },
    {
      "cell_type": "code",
      "metadata": {
        "id": "X2Ey8KJoOO2L",
        "colab_type": "code",
        "colab": {
          "base_uri": "https://localhost:8080/",
          "height": 34
        },
        "outputId": "20dd0a25-0089-40f4-b096-e068ac38b891"
      },
      "source": [
        "class student:\n",
        "  def __init__(self,m1,m2,m3):\n",
        "    self.m1 = m1\n",
        "    self.m2 = m2\n",
        "    self.m3 = m3\n",
        "  def avg(self):\n",
        "    return (self.m1 + self.m2 + self.m3)/3\n",
        "  def get_m1(self):\n",
        "    return self.m1\n",
        "s1 = student(12,23,34)\n",
        "s2 = student(23,34,45)\n",
        "\n",
        "print(s1.avg())"
      ],
      "execution_count": 14,
      "outputs": [
        {
          "output_type": "stream",
          "text": [
            "23.0\n"
          ],
          "name": "stdout"
        }
      ]
    },
    {
      "cell_type": "code",
      "metadata": {
        "id": "sgZEduDrUUCz",
        "colab_type": "code",
        "colab": {
          "base_uri": "https://localhost:8080/",
          "height": 34
        },
        "outputId": "d30bfa87-3e2c-4251-b55b-d9afb5f17e39"
      },
      "source": [
        "class student:\n",
        "  def __init__(self,m1,m2,m3):\n",
        "    self.m1 = m1\n",
        "    self.m2 = m2\n",
        "    self.m3 = m3\n",
        "  def avg(self):\n",
        "    return (self.m1 + self.m2 + self.m3)/3\n",
        "  def get_m1(self):  # get are Accessors\n",
        "    return self.m1\n",
        "  def set_m1(self,value): # set are mutators\n",
        "    self.m1 = value \n",
        "s1 = student(12,23,34)\n",
        "s2 = student(23,34,45)\n",
        "\n",
        "print(s1.avg())"
      ],
      "execution_count": 15,
      "outputs": [
        {
          "output_type": "stream",
          "text": [
            "23.0\n"
          ],
          "name": "stdout"
        }
      ]
    },
    {
      "cell_type": "code",
      "metadata": {
        "id": "QcxNiS26Uwkt",
        "colab_type": "code",
        "colab": {
          "base_uri": "https://localhost:8080/",
          "height": 70
        },
        "outputId": "cfa53136-6401-432a-ba45-c5b8fdbbbc51"
      },
      "source": [
        "# Class Method and static Method\n",
        "\n",
        "class student:\n",
        "  school = 'LRG'\n",
        "  def __init__(self,m1,m2):\n",
        "    self.m1 = m1\n",
        "    self.m2 = m2\n",
        "  def avg(self):\n",
        "    return (self.m1 + self.m2)/2\n",
        "\n",
        "  @classmethod\n",
        "  def getschool(cls):\n",
        "    return cls.school\n",
        "\n",
        "  @staticmethod\n",
        "  def info():\n",
        "    print(\"This is student class in .... abc module\")\n",
        "s1 = student(12,23)\n",
        "s2 = student(23,34)\n",
        "\n",
        "print(s1.avg())\n",
        "print(student.getschool())\n",
        "student.info()\n"
      ],
      "execution_count": 16,
      "outputs": [
        {
          "output_type": "stream",
          "text": [
            "17.5\n",
            "LRG\n",
            "This is student class in .... abc module\n"
          ],
          "name": "stdout"
        }
      ]
    },
    {
      "cell_type": "markdown",
      "metadata": {
        "id": "bQjtd9ODiTZE",
        "colab_type": "text"
      },
      "source": [
        "# Inner class"
      ]
    },
    {
      "cell_type": "code",
      "metadata": {
        "id": "nPGq9bpoXLgr",
        "colab_type": "code",
        "colab": {
          "base_uri": "https://localhost:8080/",
          "height": 52
        },
        "outputId": "01482f27-c07e-4697-da80-c88d2536f505"
      },
      "source": [
        "class student:\n",
        "  def __init__(self,name,rollno):\n",
        "    self.name = name\n",
        "    self.rollno = rollno\n",
        "    self.lap = self.Laptop()\n",
        "\n",
        "  def show(self):\n",
        "    print(self.name, self.rollno)\n",
        "    self.lap.show()\n",
        "\n",
        "  class Laptop:\n",
        "    def __init__(self):\n",
        "      self.brand = 'HP'\n",
        "      self.ram = 8\n",
        "      self.cpu = 'i7p'\n",
        "\n",
        "    def show(self):\n",
        "      print(self.brand,self.ram,self.cpu)\n",
        "\n",
        "\n",
        "\n",
        "s1 = student('Ani',2)\n",
        "s2 = student('Vandu',3)\n",
        "\n",
        "s1.show()\n"
      ],
      "execution_count": 17,
      "outputs": [
        {
          "output_type": "stream",
          "text": [
            "Ani 2\n",
            "HP 8 i7p\n"
          ],
          "name": "stdout"
        }
      ]
    },
    {
      "cell_type": "markdown",
      "metadata": {
        "id": "-flkIcZJoUHv",
        "colab_type": "text"
      },
      "source": [
        "#Inheritance"
      ]
    },
    {
      "cell_type": "code",
      "metadata": {
        "id": "i7g9zyqioBwN",
        "colab_type": "code",
        "colab": {
          "base_uri": "https://localhost:8080/",
          "height": 52
        },
        "outputId": "514ef78e-9759-4ab9-d45b-58453d439ecb"
      },
      "source": [
        "class A:\n",
        "  def feature1(self):\n",
        "    print(\"Feature 1 is working\")\n",
        "  def feature2(self):\n",
        "    print(\"Feature 2 is working\")\n",
        "\n",
        "class B():\n",
        "  def feature3(self):\n",
        "    print(\"Feature 3 is working\")\n",
        "  def feature4(self):\n",
        "    print(\"Feature 4 is working\")\n",
        "\n",
        "class C(A,B):\n",
        "  def feature5(self):\n",
        "    print(\"Feature 5 is working\")\n",
        "\n",
        "a1 = A()\n",
        "a1.feature1()\n",
        "a1.feature2()\n",
        "\n",
        "#b1 = B()\n",
        "\n",
        "#c1 = C()\n",
        "\n"
      ],
      "execution_count": 18,
      "outputs": [
        {
          "output_type": "stream",
          "text": [
            "Feature 1 is working\n",
            "Feature 2 is working\n"
          ],
          "name": "stdout"
        }
      ]
    },
    {
      "cell_type": "markdown",
      "metadata": {
        "id": "gODgF2Xnmgur",
        "colab_type": "text"
      },
      "source": [
        "#Constructor in Inheritance"
      ]
    },
    {
      "cell_type": "code",
      "metadata": {
        "id": "benLD8NmrV-6",
        "colab_type": "code",
        "colab": {
          "base_uri": "https://localhost:8080/",
          "height": 52
        },
        "outputId": "a313e0b4-269d-474a-f820-2028040452f1"
      },
      "source": [
        "class A:\n",
        "  def __init__(self):\n",
        "    print(\"in A init\")\n",
        "  def feature1(self):\n",
        "    print(\"Feature1 is working\")\n",
        "  def feature2(self):\n",
        "    print(\"Feature2 is working\")\n",
        "\n",
        "class B(A):\n",
        "  def __init__(self):\n",
        "    super().__init__()\n",
        "    print(\"in B init\")\n",
        "  def feature3(self):\n",
        "    print(\"Feature3 is working\")\n",
        "  def feature4(self):\n",
        "    print(\"Feature4 is working\")\n",
        "\n",
        "a1 = B()\n"
      ],
      "execution_count": 19,
      "outputs": [
        {
          "output_type": "stream",
          "text": [
            "in A init\n",
            "in B init\n"
          ],
          "name": "stdout"
        }
      ]
    },
    {
      "cell_type": "code",
      "metadata": {
        "id": "XLRFTDsMomov",
        "colab_type": "code",
        "colab": {
          "base_uri": "https://localhost:8080/",
          "height": 52
        },
        "outputId": "16f2f2d5-1c4d-4fe8-be64-a0515972de77"
      },
      "source": [
        "class A:\n",
        "  def __init__(self):\n",
        "    print(\"in A init\")\n",
        "  def feature1(self):\n",
        "    print(\"Feature1 is working\")\n",
        "  def feature2(self):\n",
        "    print(\"Feature2 is working\")\n",
        "\n",
        "class B:\n",
        "  def __init__(self):\n",
        "    print(\"in B init\")\n",
        "  def feature3(self):\n",
        "    print(\"Feature3 is working\")\n",
        "  def feature4(self):\n",
        "    print(\"Feature4 is working\")\n",
        "\n",
        "class C(A,B):\n",
        "  def __init__(self):\n",
        "    super().__init__()\n",
        "    print(\"in C init\")\n",
        "a1 = C()"
      ],
      "execution_count": 20,
      "outputs": [
        {
          "output_type": "stream",
          "text": [
            "in A init\n",
            "in C init\n"
          ],
          "name": "stdout"
        }
      ]
    },
    {
      "cell_type": "code",
      "metadata": {
        "id": "XiTkTVDxqYA1",
        "colab_type": "code",
        "colab": {
          "base_uri": "https://localhost:8080/",
          "height": 70
        },
        "outputId": "c7ba6656-8a2f-48f1-8d0e-1a77c5fcf320"
      },
      "source": [
        "class A:\n",
        "  def __init__(self):\n",
        "    print(\"in A init\")\n",
        "  def feature1(self):\n",
        "    print(\"Feature1-A is working\")\n",
        "  def feature2(self):\n",
        "    print(\"Feature2 is working\")\n",
        "\n",
        "class B:\n",
        "  def __init__(self):\n",
        "    print(\"in B init\")\n",
        "  def feature3(self):\n",
        "    print(\"Feature1-B is working\")\n",
        "  def feature4(self):\n",
        "    print(\"Feature4 is working\")\n",
        "\n",
        "class C(A,B):\n",
        "  def __init__(self):\n",
        "    super().__init__()\n",
        "    print(\"in C init\")   # MRO Method Resolution Order\n",
        "a1 = C()\n",
        "a1.feature1()"
      ],
      "execution_count": 21,
      "outputs": [
        {
          "output_type": "stream",
          "text": [
            "in A init\n",
            "in C init\n",
            "Feature1-A is working\n"
          ],
          "name": "stdout"
        }
      ]
    },
    {
      "cell_type": "code",
      "metadata": {
        "id": "J8wloTyRrze5",
        "colab_type": "code",
        "colab": {
          "base_uri": "https://localhost:8080/",
          "height": 70
        },
        "outputId": "9f9aa30c-50c8-43d2-bfa0-64a424a0fcb1"
      },
      "source": [
        "class A:\n",
        "  def __init__(self):\n",
        "    print(\"in A init\")\n",
        "  def feature1(self):\n",
        "    print(\"Feature1-A is working\")\n",
        "  def feature2(self):\n",
        "    print(\"Feature2 is working\")\n",
        "\n",
        "class B:\n",
        "  def __init__(self):\n",
        "    print(\"in B init\")\n",
        "  def feature3(self):\n",
        "    print(\"Feature1-B is working\")\n",
        "  def feature4(self):\n",
        "    print(\"Feature4 is working\")\n",
        "\n",
        "class C(A,B):\n",
        "  def __init__(self):\n",
        "    super().__init__()\n",
        "    print(\"in C init\")\n",
        "\n",
        "  def feat(self):\n",
        "    super().feature2()\n",
        "a1 = C()\n",
        "a1.feat()"
      ],
      "execution_count": 22,
      "outputs": [
        {
          "output_type": "stream",
          "text": [
            "in A init\n",
            "in C init\n",
            "Feature2 is working\n"
          ],
          "name": "stdout"
        }
      ]
    },
    {
      "cell_type": "markdown",
      "metadata": {
        "id": "Qf_7nqEislba",
        "colab_type": "text"
      },
      "source": [
        "#Introduction to Polymorphism"
      ]
    },
    {
      "cell_type": "code",
      "metadata": {
        "id": "xowJlhzeshUS",
        "colab_type": "code",
        "colab": {}
      },
      "source": [
        "# 1. Duck Typing\n",
        "# 2. Operator Overloading\n",
        "# 3. Method Overloading\n",
        "# 4. MethodOverriding"
      ],
      "execution_count": 23,
      "outputs": []
    },
    {
      "cell_type": "markdown",
      "metadata": {
        "id": "vMW5uaSivC0f",
        "colab_type": "text"
      },
      "source": [
        "## Duck Typing"
      ]
    },
    {
      "cell_type": "code",
      "metadata": {
        "id": "PwU4DK5utVOj",
        "colab_type": "code",
        "colab": {
          "base_uri": "https://localhost:8080/",
          "height": 52
        },
        "outputId": "270ffc78-b867-4ffb-b93e-01b2e98b08df"
      },
      "source": [
        "class collab:\n",
        "  def execute(self):\n",
        "    print('Compiling')\n",
        "    print('Running')\n",
        "\n",
        "class Laptop:\n",
        "  def code(self,ide):\n",
        "    ide.execute()\n",
        "\n",
        "ide = collab()\n",
        "\n",
        "lap1 = Laptop()\n",
        "lap1.code(ide)"
      ],
      "execution_count": 24,
      "outputs": [
        {
          "output_type": "stream",
          "text": [
            "Compiling\n",
            "Running\n"
          ],
          "name": "stdout"
        }
      ]
    },
    {
      "cell_type": "code",
      "metadata": {
        "id": "Mm5B-aEKwgYP",
        "colab_type": "code",
        "colab": {
          "base_uri": "https://localhost:8080/",
          "height": 87
        },
        "outputId": "0a047a67-a384-4b67-afac-7301bda3f97f"
      },
      "source": [
        "class collab:\n",
        "  def execute(self):\n",
        "    print('Compiling')\n",
        "    print('Running')\n",
        "\n",
        "class MyEditor():\n",
        "  def execute(Self):\n",
        "    print('Spell Check')\n",
        "    print('Convention check')\n",
        "    print('Compiling')\n",
        "    print('Rinning')\n",
        "class Laptop:\n",
        "  def code(self,ide):\n",
        "    ide.execute()\n",
        "\n",
        "ide = MyEditor()\n",
        "\n",
        "lap1 = Laptop()\n",
        "lap1.code(ide)"
      ],
      "execution_count": 25,
      "outputs": [
        {
          "output_type": "stream",
          "text": [
            "Spell Check\n",
            "Convention check\n",
            "Compiling\n",
            "Rinning\n"
          ],
          "name": "stdout"
        }
      ]
    },
    {
      "cell_type": "markdown",
      "metadata": {
        "id": "R-9cSkStxrKi",
        "colab_type": "text"
      },
      "source": [
        "#Operator Overloading in Python and Polymorphism"
      ]
    },
    {
      "cell_type": "code",
      "metadata": {
        "id": "p4tt5OJYxQ_j",
        "colab_type": "code",
        "colab": {
          "base_uri": "https://localhost:8080/",
          "height": 34
        },
        "outputId": "eea8b9a1-3f90-45d2-bba8-21884b5fba8c"
      },
      "source": [
        "class student:\n",
        "  def __init__(self,m1,m2):\n",
        "    self.m1 = m1\n",
        "    self.m2 = m2\n",
        "\n",
        "  def __add__(self, other):\n",
        "    m1 = self.m1 + other.m1\n",
        "    m2 = self.m2 + other.m2\n",
        "    m3 = student(m1,m2)\n",
        "\n",
        "    return s3\n",
        "\n",
        "s1 = student(50,69)\n",
        "s2 = student(70,64)\n",
        "\n",
        "s3 = s1 + s2\n",
        "\n",
        "print(s3.m1)\n",
        "\n",
        "  "
      ],
      "execution_count": 26,
      "outputs": [
        {
          "output_type": "stream",
          "text": [
            "67\n"
          ],
          "name": "stdout"
        }
      ]
    },
    {
      "cell_type": "code",
      "metadata": {
        "id": "kruSwUYo2Xhe",
        "colab_type": "code",
        "colab": {
          "base_uri": "https://localhost:8080/",
          "height": 34
        },
        "outputId": "3f687a91-ef54-4341-cc6b-c78e7f51951b"
      },
      "source": [
        "class student:\n",
        "  def __init__(self,m1,m2):\n",
        "    self.m1 = m1\n",
        "    self.m2 = m2\n",
        "\n",
        "  def __add__(self, other):\n",
        "    m1 = self.m1 + other.m1\n",
        "    m2 = self.m2 + other.m2\n",
        "    m3 = student(m1,m2)\n",
        "\n",
        "    return s3\n",
        "\n",
        "  def __gt__(self, other):\n",
        "    r1 = self.m1 + other.m1\n",
        "    r2 = self.m2 + other.m2\n",
        "    if r1 > r2:\n",
        "      return True\n",
        "    else:\n",
        "      return False\n",
        "\n",
        "s1 = student(50,69)\n",
        "s2 = student(70,64)\n",
        "\n",
        "s3 = s1 + s2\n",
        "\n",
        "if s1 > s2:\n",
        "  print(\"s1 Wins\")\n",
        "else:\n",
        "  print(\"s2 Wins\")"
      ],
      "execution_count": 27,
      "outputs": [
        {
          "output_type": "stream",
          "text": [
            "s2 Wins\n"
          ],
          "name": "stdout"
        }
      ]
    },
    {
      "cell_type": "markdown",
      "metadata": {
        "id": "rjs70-hh6k3Z",
        "colab_type": "text"
      },
      "source": [
        "# Method Overloading and Method Overriding"
      ]
    },
    {
      "cell_type": "code",
      "metadata": {
        "id": "1_Qy8AXB5gZi",
        "colab_type": "code",
        "colab": {
          "base_uri": "https://localhost:8080/",
          "height": 34
        },
        "outputId": "c7e503d7-97bf-4fd4-85d0-e8684cf45324"
      },
      "source": [
        "class student:\n",
        "  def __init__(self,m1,m2):\n",
        "    self.m1 = m1\n",
        "    self.m2 = m2\n",
        "\n",
        "  def sum(self,a,b):\n",
        "    s = a + b\n",
        "\n",
        "    return s\n",
        "\n",
        "s1 = student(30,50)\n",
        "\n",
        "print(s1.sum(5,6))"
      ],
      "execution_count": 28,
      "outputs": [
        {
          "output_type": "stream",
          "text": [
            "11\n"
          ],
          "name": "stdout"
        }
      ]
    },
    {
      "cell_type": "code",
      "metadata": {
        "id": "yLoCIhyEPHwT",
        "colab_type": "code",
        "colab": {
          "base_uri": "https://localhost:8080/",
          "height": 34
        },
        "outputId": "4c100829-d703-45c4-987d-ec4cf6268a7e"
      },
      "source": [
        "class student:\n",
        "  def __init__(self,m1,m2):\n",
        "    self.m1 = m1\n",
        "    self.m2 = m2\n",
        "\n",
        "  def sum(self,a,b,c):\n",
        "    s = a + b + c\n",
        "\n",
        "    return s\n",
        "\n",
        "s1 = student(30,50)\n",
        "\n",
        "print(s1.sum(5,6,9))"
      ],
      "execution_count": 30,
      "outputs": [
        {
          "output_type": "stream",
          "text": [
            "20\n"
          ],
          "name": "stdout"
        }
      ]
    },
    {
      "cell_type": "code",
      "metadata": {
        "id": "kqA20Z9EPdq8",
        "colab_type": "code",
        "colab": {
          "base_uri": "https://localhost:8080/",
          "height": 34
        },
        "outputId": "d976c0a6-829b-462a-8227-90386f417f90"
      },
      "source": [
        "class A:\n",
        "  def show(self):\n",
        "    print(\"in A show\")\n",
        "  \n",
        "class B(A):\n",
        "  \n",
        "  def show(self):\n",
        "    print(\"in show B\")\n",
        "\n",
        "a1 = B()\n",
        "a1.show()"
      ],
      "execution_count": 32,
      "outputs": [
        {
          "output_type": "stream",
          "text": [
            "in show B\n"
          ],
          "name": "stdout"
        }
      ]
    },
    {
      "cell_type": "code",
      "metadata": {
        "id": "QvUsJ-j4dvYi",
        "colab_type": "code",
        "colab": {}
      },
      "source": [
        ""
      ],
      "execution_count": null,
      "outputs": []
    }
  ]
}