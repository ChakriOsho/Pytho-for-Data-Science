{
  "nbformat": 4,
  "nbformat_minor": 0,
  "metadata": {
    "colab": {
      "name": "Functions.ipynb",
      "provenance": [],
      "collapsed_sections": []
    },
    "kernelspec": {
      "name": "python3",
      "display_name": "Python 3"
    }
  },
  "cells": [
    {
      "cell_type": "markdown",
      "metadata": {
        "id": "-kXgHE1qU9Jy",
        "colab_type": "text"
      },
      "source": [
        "**Functions**"
      ]
    },
    {
      "cell_type": "code",
      "metadata": {
        "id": "uXP2kD2DUxrE",
        "colab_type": "code",
        "colab": {}
      },
      "source": [
        "def hello_func():\n",
        "  pass"
      ],
      "execution_count": 1,
      "outputs": []
    },
    {
      "cell_type": "code",
      "metadata": {
        "id": "my-PQkv4VEen",
        "colab_type": "code",
        "colab": {
          "base_uri": "https://localhost:8080/",
          "height": 52
        },
        "outputId": "4a68af16-8877-47f1-c67b-d4519df69c80"
      },
      "source": [
        "print(hello_func())\n",
        "print(hello_func)"
      ],
      "execution_count": 2,
      "outputs": [
        {
          "output_type": "stream",
          "text": [
            "None\n",
            "<function hello_func at 0x7f5c410b1b70>\n"
          ],
          "name": "stdout"
        }
      ]
    },
    {
      "cell_type": "code",
      "metadata": {
        "id": "vrxEYY3WVeyE",
        "colab_type": "code",
        "colab": {
          "base_uri": "https://localhost:8080/",
          "height": 105
        },
        "outputId": "7702d423-05e5-4453-8870-b5e16911c8e7"
      },
      "source": [
        "def hello_func():\n",
        "  print('Hello')\n",
        "hello_func()\n",
        "print('Hello')\n",
        "print('Hello!')\n",
        "print('Hello!')\n",
        "print('Hello!')"
      ],
      "execution_count": 3,
      "outputs": [
        {
          "output_type": "stream",
          "text": [
            "Hello\n",
            "Hello\n",
            "Hello!\n",
            "Hello!\n",
            "Hello!\n"
          ],
          "name": "stdout"
        }
      ]
    },
    {
      "cell_type": "code",
      "metadata": {
        "id": "xi9uoWhpVzGo",
        "colab_type": "code",
        "colab": {
          "base_uri": "https://localhost:8080/",
          "height": 52
        },
        "outputId": "a11a2727-3322-4e20-aa6f-3438a4dc028a"
      },
      "source": [
        "def hello_func():\n",
        "  return 'Hello'\n",
        "print(hello_func())\n",
        "print(hello_func().lower())"
      ],
      "execution_count": 4,
      "outputs": [
        {
          "output_type": "stream",
          "text": [
            "Hello\n",
            "hello\n"
          ],
          "name": "stdout"
        }
      ]
    },
    {
      "cell_type": "code",
      "metadata": {
        "id": "gOS5Y68hBM-5",
        "colab_type": "code",
        "colab": {
          "base_uri": "https://localhost:8080/",
          "height": 34
        },
        "outputId": "81cb83d1-a34d-4523-cf56-ab5a0751f114"
      },
      "source": [
        "def hello_fun(greeting):\n",
        "  return '{}.Function'.format(greeting)\n",
        "print(hello_fun('Hi'))"
      ],
      "execution_count": 5,
      "outputs": [
        {
          "output_type": "stream",
          "text": [
            "Hi.Function\n"
          ],
          "name": "stdout"
        }
      ]
    },
    {
      "cell_type": "code",
      "metadata": {
        "id": "cidml2bk6pvN",
        "colab_type": "code",
        "colab": {
          "base_uri": "https://localhost:8080/",
          "height": 35
        },
        "outputId": "856b9e4a-3658-4a61-c692-9fb50373a8a9"
      },
      "source": [
        "def hello_fun(greeting, name = 'Anirudh'):\n",
        "  return'{},{}'.format(greeting, name)\n",
        "\n",
        "hello_fun('Hi')"
      ],
      "execution_count": 6,
      "outputs": [
        {
          "output_type": "execute_result",
          "data": {
            "application/vnd.google.colaboratory.intrinsic+json": {
              "type": "string"
            },
            "text/plain": [
              "'Hi,Anirudh'"
            ]
          },
          "metadata": {
            "tags": []
          },
          "execution_count": 6
        }
      ]
    },
    {
      "cell_type": "code",
      "metadata": {
        "id": "YSYjqIGXFoM0",
        "colab_type": "code",
        "colab": {
          "base_uri": "https://localhost:8080/",
          "height": 35
        },
        "outputId": "a90769c9-ce3a-4492-f2c3-38f3be5f08d6"
      },
      "source": [
        "def hello_fun(greeting, name = 'you'):\n",
        "  return'{},{}'.format(greeting, name)\n",
        "\n",
        "hello_fun('Hi', name = 'Chakri')"
      ],
      "execution_count": 7,
      "outputs": [
        {
          "output_type": "execute_result",
          "data": {
            "application/vnd.google.colaboratory.intrinsic+json": {
              "type": "string"
            },
            "text/plain": [
              "'Hi,Chakri'"
            ]
          },
          "metadata": {
            "tags": []
          },
          "execution_count": 7
        }
      ]
    },
    {
      "cell_type": "code",
      "metadata": {
        "id": "c32kOXgEF-GY",
        "colab_type": "code",
        "colab": {
          "base_uri": "https://localhost:8080/",
          "height": 52
        },
        "outputId": "38925bc2-b85e-4ab9-ba26-5775c7d0e690"
      },
      "source": [
        "def student_info(*args, **kwargs):   # args---> gives output in tuple, kwargs---> gives output in dictionary\n",
        "  print(args)\n",
        "  print(kwargs)\n",
        "\n",
        "student_info('Math', 'Art', name = 'Ani', age = 30)\n"
      ],
      "execution_count": 8,
      "outputs": [
        {
          "output_type": "stream",
          "text": [
            "('Math', 'Art')\n",
            "{'name': 'Ani', 'age': 30}\n"
          ],
          "name": "stdout"
        }
      ]
    },
    {
      "cell_type": "code",
      "metadata": {
        "id": "R4hV6CJ4GMf_",
        "colab_type": "code",
        "colab": {
          "base_uri": "https://localhost:8080/",
          "height": 70
        },
        "outputId": "2b71f840-fdb3-4d2f-cbd5-a41ecbd316e8"
      },
      "source": [
        "courses = ['Math', 'Art']\n",
        "info = {'name':'Ani', 'age':30}\n",
        "\n",
        "print(student_info(courses, info))"
      ],
      "execution_count": 9,
      "outputs": [
        {
          "output_type": "stream",
          "text": [
            "(['Math', 'Art'], {'name': 'Ani', 'age': 30})\n",
            "{}\n",
            "None\n"
          ],
          "name": "stdout"
        }
      ]
    },
    {
      "cell_type": "code",
      "metadata": {
        "id": "1B5GpsvrI9rk",
        "colab_type": "code",
        "colab": {
          "base_uri": "https://localhost:8080/",
          "height": 52
        },
        "outputId": "9ca9324a-3f0f-4e18-e4c2-eb697564196e"
      },
      "source": [
        "courses = ['Math', 'Art']\n",
        "info = {'name':'Ani', 'age':30}\n",
        "\n",
        "student_info(*courses, **info)"
      ],
      "execution_count": 10,
      "outputs": [
        {
          "output_type": "stream",
          "text": [
            "('Math', 'Art')\n",
            "{'name': 'Ani', 'age': 30}\n"
          ],
          "name": "stdout"
        }
      ]
    },
    {
      "cell_type": "code",
      "metadata": {
        "id": "-lA7YMJ8N1hr",
        "colab_type": "code",
        "colab": {
          "base_uri": "https://localhost:8080/",
          "height": 52
        },
        "outputId": "bb23125b-5839-4c47-e37a-b0e0d48f0714"
      },
      "source": [
        "month_days = [0,31,28,31,30,31,30,31,31,30,31,30,31]\n",
        "\n",
        "def is_leap(year):\n",
        "  \"\"\"Return True for Leap year and False for Non-Leapy ear\"\"\"\n",
        "   \n",
        "\n",
        "  return year % 4 == 0 and (year % 100 != 0  or year % 400 == 0 )\n",
        "\n",
        "def days_in_month(year, month):\n",
        "  \"\"\"Return no of days in that month in that year\"\"\"\n",
        "\n",
        "  if not 1<= month <= 12:\n",
        "    return 'Invalid month'\n",
        "\n",
        "  if month == 2 and is_leap(year):\n",
        "    return 29\n",
        "\n",
        "  return month_days[month]\n",
        "\n",
        "print(is_leap(2020))\n",
        "print(days_in_month(2017,2))\n"
      ],
      "execution_count": 33,
      "outputs": [
        {
          "output_type": "stream",
          "text": [
            "True\n",
            "28\n"
          ],
          "name": "stdout"
        }
      ]
    },
    {
      "cell_type": "code",
      "metadata": {
        "id": "R36tg5iSX7w7",
        "colab_type": "code",
        "colab": {}
      },
      "source": [
        ""
      ],
      "execution_count": null,
      "outputs": []
    }
  ]
}