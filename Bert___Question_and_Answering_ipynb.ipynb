{
  "nbformat": 4,
  "nbformat_minor": 0,
  "metadata": {
    "colab": {
      "name": "Bert---> Question and Answering ipynb",
      "provenance": [],
      "collapsed_sections": []
    },
    "kernelspec": {
      "name": "python3",
      "display_name": "Python 3"
    }
  },
  "cells": [
    {
      "cell_type": "code",
      "metadata": {
        "id": "UrkChqVpmJZ6",
        "colab_type": "code",
        "colab": {
          "base_uri": "https://localhost:8080/",
          "height": 351
        },
        "outputId": "f474e8dd-4b69-42be-e124-956d9d4f8009"
      },
      "source": [
        "! pip install transformers"
      ],
      "execution_count": 1,
      "outputs": [
        {
          "output_type": "stream",
          "text": [
            "Requirement already satisfied: transformers in /usr/local/lib/python3.6/dist-packages (3.0.2)\n",
            "Requirement already satisfied: tqdm>=4.27 in /usr/local/lib/python3.6/dist-packages (from transformers) (4.41.1)\n",
            "Requirement already satisfied: regex!=2019.12.17 in /usr/local/lib/python3.6/dist-packages (from transformers) (2019.12.20)\n",
            "Requirement already satisfied: tokenizers==0.8.1.rc1 in /usr/local/lib/python3.6/dist-packages (from transformers) (0.8.1rc1)\n",
            "Requirement already satisfied: numpy in /usr/local/lib/python3.6/dist-packages (from transformers) (1.18.5)\n",
            "Requirement already satisfied: sacremoses in /usr/local/lib/python3.6/dist-packages (from transformers) (0.0.43)\n",
            "Requirement already satisfied: requests in /usr/local/lib/python3.6/dist-packages (from transformers) (2.23.0)\n",
            "Requirement already satisfied: sentencepiece!=0.1.92 in /usr/local/lib/python3.6/dist-packages (from transformers) (0.1.91)\n",
            "Requirement already satisfied: filelock in /usr/local/lib/python3.6/dist-packages (from transformers) (3.0.12)\n",
            "Requirement already satisfied: dataclasses; python_version < \"3.7\" in /usr/local/lib/python3.6/dist-packages (from transformers) (0.7)\n",
            "Requirement already satisfied: packaging in /usr/local/lib/python3.6/dist-packages (from transformers) (20.4)\n",
            "Requirement already satisfied: click in /usr/local/lib/python3.6/dist-packages (from sacremoses->transformers) (7.1.2)\n",
            "Requirement already satisfied: six in /usr/local/lib/python3.6/dist-packages (from sacremoses->transformers) (1.15.0)\n",
            "Requirement already satisfied: joblib in /usr/local/lib/python3.6/dist-packages (from sacremoses->transformers) (0.16.0)\n",
            "Requirement already satisfied: idna<3,>=2.5 in /usr/local/lib/python3.6/dist-packages (from requests->transformers) (2.10)\n",
            "Requirement already satisfied: certifi>=2017.4.17 in /usr/local/lib/python3.6/dist-packages (from requests->transformers) (2020.6.20)\n",
            "Requirement already satisfied: chardet<4,>=3.0.2 in /usr/local/lib/python3.6/dist-packages (from requests->transformers) (3.0.4)\n",
            "Requirement already satisfied: urllib3!=1.25.0,!=1.25.1,<1.26,>=1.21.1 in /usr/local/lib/python3.6/dist-packages (from requests->transformers) (1.24.3)\n",
            "Requirement already satisfied: pyparsing>=2.0.2 in /usr/local/lib/python3.6/dist-packages (from packaging->transformers) (2.4.7)\n"
          ],
          "name": "stdout"
        }
      ]
    },
    {
      "cell_type": "code",
      "metadata": {
        "id": "yFxTCKB2T649",
        "colab_type": "code",
        "colab": {}
      },
      "source": [
        "from transformers import BertForQuestionAnswering"
      ],
      "execution_count": 2,
      "outputs": []
    },
    {
      "cell_type": "code",
      "metadata": {
        "id": "KrbHB1l8UHOw",
        "colab_type": "code",
        "colab": {}
      },
      "source": [
        "model = BertForQuestionAnswering.from_pretrained('bert-large-uncased-whole-word-masking-finetuned-squad')"
      ],
      "execution_count": 3,
      "outputs": []
    },
    {
      "cell_type": "code",
      "metadata": {
        "id": "92Rd4TNX6_0B",
        "colab_type": "code",
        "colab": {}
      },
      "source": [
        "question  = \"When was google founded?\"\n",
        "\n",
        "context = \"Google was founded in September 1998 by Larry Page and Sergey Brin while they were Ph.D. students at Stanford University in California. Together they own about 14 percent of its shares and control 56 percent of the stockholder voting power through supervoting stock. They incorporated Google as a California privately held company on September 4, 1998, in California.\""
      ],
      "execution_count": 4,
      "outputs": []
    },
    {
      "cell_type": "code",
      "metadata": {
        "id": "moKXhIfc8Bj7",
        "colab_type": "code",
        "colab": {}
      },
      "source": [
        "from transformers import BertTokenizer"
      ],
      "execution_count": 5,
      "outputs": []
    },
    {
      "cell_type": "code",
      "metadata": {
        "id": "nyCi6jPU8Kh7",
        "colab_type": "code",
        "colab": {}
      },
      "source": [
        "tokenizer = BertTokenizer.from_pretrained('bert-large-uncased-whole-word-masking-finetuned-squad')"
      ],
      "execution_count": 6,
      "outputs": []
    },
    {
      "cell_type": "markdown",
      "metadata": {
        "id": "goGXbB9x80uZ",
        "colab_type": "text"
      },
      "source": [
        "#Giving text to tokenizer to convert into word embedding"
      ]
    },
    {
      "cell_type": "code",
      "metadata": {
        "id": "RzShPztv8kMO",
        "colab_type": "code",
        "colab": {}
      },
      "source": [
        "input_ids = tokenizer.encode(question,context)"
      ],
      "execution_count": 7,
      "outputs": []
    },
    {
      "cell_type": "code",
      "metadata": {
        "id": "j3eGeMfi9Jbm",
        "colab_type": "code",
        "colab": {
          "base_uri": "https://localhost:8080/",
          "height": 34
        },
        "outputId": "c302df38-fce1-4ca8-c242-f179a5e09c51"
      },
      "source": [
        "print(\"no of input_ids:\", len(input_ids))"
      ],
      "execution_count": 8,
      "outputs": [
        {
          "output_type": "stream",
          "text": [
            "no of input_ids: 78\n"
          ],
          "name": "stdout"
        }
      ]
    },
    {
      "cell_type": "code",
      "metadata": {
        "id": "H1UVpc-R9TeD",
        "colab_type": "code",
        "colab": {}
      },
      "source": [
        "#token = tokenizer.convert_ids_to_tokens(input_ids)\n",
        "#print(token)"
      ],
      "execution_count": 9,
      "outputs": []
    },
    {
      "cell_type": "code",
      "metadata": {
        "id": "OY4HHegv95bj",
        "colab_type": "code",
        "colab": {
          "base_uri": "https://localhost:8080/",
          "height": 1000
        },
        "outputId": "5d90e03d-eca0-4e66-dd51-5b73d6165d55"
      },
      "source": [
        "token = tokenizer.convert_ids_to_tokens(input_ids)\n",
        "for token, id in zip(token,input_ids):\n",
        "  print(token, id)"
      ],
      "execution_count": 10,
      "outputs": [
        {
          "output_type": "stream",
          "text": [
            "[CLS] 101\n",
            "when 2043\n",
            "was 2001\n",
            "google 8224\n",
            "founded 2631\n",
            "? 1029\n",
            "[SEP] 102\n",
            "google 8224\n",
            "was 2001\n",
            "founded 2631\n",
            "in 1999\n",
            "september 2244\n",
            "1998 2687\n",
            "by 2011\n",
            "larry 6554\n",
            "page 3931\n",
            "and 1998\n",
            "sergey 22703\n",
            "br 7987\n",
            "##in 2378\n",
            "while 2096\n",
            "they 2027\n",
            "were 2020\n",
            "ph 6887\n",
            ". 1012\n",
            "d 1040\n",
            ". 1012\n",
            "students 2493\n",
            "at 2012\n",
            "stanford 8422\n",
            "university 2118\n",
            "in 1999\n",
            "california 2662\n",
            ". 1012\n",
            "together 2362\n",
            "they 2027\n",
            "own 2219\n",
            "about 2055\n",
            "14 2403\n",
            "percent 3867\n",
            "of 1997\n",
            "its 2049\n",
            "shares 6661\n",
            "and 1998\n",
            "control 2491\n",
            "56 5179\n",
            "percent 3867\n",
            "of 1997\n",
            "the 1996\n",
            "stock 4518\n",
            "##holder 14528\n",
            "voting 6830\n",
            "power 2373\n",
            "through 2083\n",
            "super 3565\n",
            "##vot 22994\n",
            "##ing 2075\n",
            "stock 4518\n",
            ". 1012\n",
            "they 2027\n",
            "incorporated 5100\n",
            "google 8224\n",
            "as 2004\n",
            "a 1037\n",
            "california 2662\n",
            "privately 9139\n",
            "held 2218\n",
            "company 2194\n",
            "on 2006\n",
            "september 2244\n",
            "4 1018\n",
            ", 1010\n",
            "1998 2687\n",
            ", 1010\n",
            "in 1999\n",
            "california 2662\n",
            ". 1012\n",
            "[SEP] 102\n"
          ],
          "name": "stdout"
        }
      ]
    },
    {
      "cell_type": "markdown",
      "metadata": {
        "id": "YZQEpbSBFSra",
        "colab_type": "text"
      },
      "source": [
        "# Segments"
      ]
    },
    {
      "cell_type": "code",
      "metadata": {
        "id": "MMVK_6jrEq62",
        "colab_type": "code",
        "colab": {
          "base_uri": "https://localhost:8080/",
          "height": 52
        },
        "outputId": "9d092207-e858-4067-8e6c-3ffd809a617f"
      },
      "source": [
        "sep_id = input_ids.index(tokenizer.sep_token_id)\n",
        "\n",
        "num_id1 = sep_id + 1\n",
        "\n",
        "num_id2 = len(input_ids) - num_id1\n",
        "\n",
        "seg_id = [0]*num_id1 + [1]*num_id2\n",
        "\n",
        "#assert len(seg_id) == len(input_ids)\n",
        "\n",
        "print(len(seg_id))\n",
        "print(len(input_ids))"
      ],
      "execution_count": 11,
      "outputs": [
        {
          "output_type": "stream",
          "text": [
            "78\n",
            "78\n"
          ],
          "name": "stdout"
        }
      ]
    },
    {
      "cell_type": "markdown",
      "metadata": {
        "id": "brEevZcyK8Jz",
        "colab_type": "text"
      },
      "source": [
        "# Model"
      ]
    },
    {
      "cell_type": "code",
      "metadata": {
        "id": "2l8KeVFiFpXm",
        "colab_type": "code",
        "colab": {}
      },
      "source": [
        "import torch"
      ],
      "execution_count": 12,
      "outputs": []
    },
    {
      "cell_type": "code",
      "metadata": {
        "id": "nF1a8Do0K_d0",
        "colab_type": "code",
        "colab": {}
      },
      "source": [
        "start, end = model(torch.tensor([input_ids]), token_type_ids = torch.tensor([seg_id]))"
      ],
      "execution_count": 13,
      "outputs": []
    },
    {
      "cell_type": "code",
      "metadata": {
        "id": "SQaveplOOKmx",
        "colab_type": "code",
        "colab": {}
      },
      "source": [
        "#print(start)"
      ],
      "execution_count": 14,
      "outputs": []
    },
    {
      "cell_type": "code",
      "metadata": {
        "id": "_RtROobFOebW",
        "colab_type": "code",
        "colab": {
          "base_uri": "https://localhost:8080/",
          "height": 34
        },
        "outputId": "bab06082-a034-4069-db6e-bc2d56ed1df5"
      },
      "source": [
        "ans_start = torch.argmax(start)\n",
        "ans_stop = torch.argmax(end)\n",
        "\n",
        "#print(ans_start)\n",
        "#print(ans_stop)\n",
        "\n",
        "answer = ' '.join(token[ans_start : ans_stop+1])\n",
        "\n",
        "print(answer)\n"
      ],
      "execution_count": 23,
      "outputs": [
        {
          "output_type": "stream",
          "text": [
            "\n"
          ],
          "name": "stdout"
        }
      ]
    },
    {
      "cell_type": "code",
      "metadata": {
        "id": "Bz-sObBVQ2oG",
        "colab_type": "code",
        "colab": {}
      },
      "source": [
        ""
      ],
      "execution_count": 15,
      "outputs": []
    }
  ]
}